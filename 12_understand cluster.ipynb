{
 "cells": [
  {
   "cell_type": "code",
   "execution_count": 22,
   "id": "ca3c6289-b117-4d50-ba17-2f1f5f3b524a",
   "metadata": {},
   "outputs": [
    {
     "name": "stderr",
     "output_type": "stream",
     "text": [
      "25/01/12 12:33:16 WARN SparkSession: Using an existing Spark session; only runtime SQL configurations will take effect.\n"
     ]
    },
    {
     "data": {
      "text/html": [
       "\n",
       "            <div>\n",
       "                <p><b>SparkSession - in-memory</b></p>\n",
       "                \n",
       "        <div>\n",
       "            <p><b>SparkContext</b></p>\n",
       "\n",
       "            <p><a href=\"http://192.168.1.36:4041\">Spark UI</a></p>\n",
       "\n",
       "            <dl>\n",
       "              <dt>Version</dt>\n",
       "                <dd><code>v3.5.3</code></dd>\n",
       "              <dt>Master</dt>\n",
       "                <dd><code>local[*]</code></dd>\n",
       "              <dt>AppName</dt>\n",
       "                <dd><code>Cluster Execution</code></dd>\n",
       "            </dl>\n",
       "        </div>\n",
       "        \n",
       "            </div>\n",
       "        "
      ],
      "text/plain": [
       "<pyspark.sql.session.SparkSession at 0x13dc1a600>"
      ]
     },
     "execution_count": 22,
     "metadata": {},
     "output_type": "execute_result"
    }
   ],
   "source": [
    "# Spark Session\n",
    "from pyspark.sql import SparkSession\n",
    "\n",
    "spark = (\n",
    "    SparkSession\n",
    "    .builder\n",
    "    .appName(\"Cluster Execution\")\n",
    "    .master(\"spark://17e348267994:7077\")\n",
    "    .config(\"spark.executor.instances\", 4)\n",
    "    .config(\"spark.executor.cores\", 4)\n",
    "    .config(\"spark.executor.memory\", \"512M\")\n",
    "    .getOrCreate()\n",
    ")\n",
    "\n",
    "spark"
   ]
  },
  {
   "cell_type": "code",
   "execution_count": 25,
   "id": "abd709e8-1d21-47a7-b2c8-698be01d9943",
   "metadata": {},
   "outputs": [],
   "source": [
    "# Create a sample data frame\n",
    "\n",
    "df = spark.range(10)"
   ]
  },
  {
   "cell_type": "code",
   "execution_count": null,
   "id": "a548b0cb-3fdd-4d3a-b013-0392a7cedce6",
   "metadata": {},
   "outputs": [],
   "source": [
    "# Write the data of the data frame\n",
    "\n",
    "df.write.format(\"csv\").option(\"header\", True).save(\"/data/output/15/3/range.csv\")"
   ]
  },
  {
   "cell_type": "code",
   "execution_count": 28,
   "id": "68e1a03a-3bcb-45d7-9cd4-16d9b039ec14",
   "metadata": {},
   "outputs": [],
   "source": [
    "# Stop Spark Settion\n",
    "spark.stop()"
   ]
  },
  {
   "cell_type": "code",
   "execution_count": null,
   "id": "2f9f1c7d-c344-4ad0-a96b-09536eb06a23",
   "metadata": {},
   "outputs": [],
   "source": [
    "# cluster.py\n",
    "\n",
    "# Spark Session\n",
    "from pyspark.sql import SparkSession\n",
    "\n",
    "spark = (\n",
    "    SparkSession\n",
    "    .builder\n",
    "    .appName(\"Cluster Execution\")\n",
    "    .getOrCreate()\n",
    ")\n",
    "\n",
    "df = spark.range(10)\n",
    "\n",
    "df.write.format(\"csv\").option(\"header\", True).save(\"/data/output/15/6/range.csv\")"
   ]
  },
  {
   "cell_type": "code",
   "execution_count": null,
   "id": "03707563-6f26-4aff-a498-33da64189b3e",
   "metadata": {},
   "outputs": [],
   "source": [
    "# In production Environment \n",
    "\n",
    ".bin/spark-submit --master spark://17e348267994:7077 --num-executors 3 --executor-cores 3 \n",
    "--executor-memory 512M cluster.py"
   ]
  }
 ],
 "metadata": {
  "kernelspec": {
   "display_name": "Python 3 (ipykernel)",
   "language": "python",
   "name": "python3"
  },
  "language_info": {
   "codemirror_mode": {
    "name": "ipython",
    "version": 3
   },
   "file_extension": ".py",
   "mimetype": "text/x-python",
   "name": "python",
   "nbconvert_exporter": "python",
   "pygments_lexer": "ipython3",
   "version": "3.12.7"
  }
 },
 "nbformat": 4,
 "nbformat_minor": 5
}
