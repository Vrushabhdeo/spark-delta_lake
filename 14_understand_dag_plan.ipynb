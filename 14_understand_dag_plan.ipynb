{
 "cells": [
  {
   "cell_type": "code",
   "execution_count": 2,
   "id": "e4c8e48e-27ca-4229-8830-f9877797e677",
   "metadata": {},
   "outputs": [
    {
     "name": "stderr",
     "output_type": "stream",
     "text": [
      "Setting default log level to \"WARN\".\n",
      "To adjust logging level use sc.setLogLevel(newLevel). For SparkR, use setLogLevel(newLevel).\n",
      "25/01/13 09:11:36 WARN NativeCodeLoader: Unable to load native-hadoop library for your platform... using builtin-java classes where applicable\n"
     ]
    },
    {
     "data": {
      "text/html": [
       "\n",
       "            <div>\n",
       "                <p><b>SparkSession - in-memory</b></p>\n",
       "                \n",
       "        <div>\n",
       "            <p><b>SparkContext</b></p>\n",
       "\n",
       "            <p><a href=\"http://192.168.1.36:4040\">Spark UI</a></p>\n",
       "\n",
       "            <dl>\n",
       "              <dt>Version</dt>\n",
       "                <dd><code>v3.5.3</code></dd>\n",
       "              <dt>Master</dt>\n",
       "                <dd><code>local[*]</code></dd>\n",
       "              <dt>AppName</dt>\n",
       "                <dd><code>Understand Plans and DAG</code></dd>\n",
       "            </dl>\n",
       "        </div>\n",
       "        \n",
       "            </div>\n",
       "        "
      ],
      "text/plain": [
       "<pyspark.sql.session.SparkSession at 0x16a1af5f0>"
      ]
     },
     "execution_count": 2,
     "metadata": {},
     "output_type": "execute_result"
    }
   ],
   "source": [
    "# Spark Session\n",
    "from pyspark.sql import SparkSession\n",
    "\n",
    "spark = (\n",
    "    SparkSession\n",
    "    .builder\n",
    "    .appName(\"Understand Plans and DAG\")\n",
    "    .master(\"local[*]\")\n",
    "    .getOrCreate()\n",
    ")\n",
    "\n",
    "spark"
   ]
  },
  {
   "cell_type": "code",
   "execution_count": 27,
   "id": "fdb34c76-3dcd-4ff7-a256-0e5faf153654",
   "metadata": {},
   "outputs": [],
   "source": [
    "# Disable AQE and Broadcast join\n",
    "\n",
    "spark.conf.set(\"spark.sql.adaptive.enabled\", False)\n",
    "spark.conf.set(\"spark.sql.adaptive.coalescePartitions.enabled\", False)\n",
    "spark.conf.set(\"spark.sql.autoBroadcastJoinThreshold\", -1)"
   ]
  },
  {
   "cell_type": "code",
   "execution_count": 28,
   "id": "b12ba929-3d4b-48c3-9d95-a289863c4f99",
   "metadata": {},
   "outputs": [
    {
     "data": {
      "text/plain": [
       "8"
      ]
     },
     "execution_count": 28,
     "metadata": {},
     "output_type": "execute_result"
    }
   ],
   "source": [
    "# Check default Parallism\n",
    "\n",
    "spark.sparkContext.defaultParallelism"
   ]
  },
  {
   "cell_type": "code",
   "execution_count": 29,
   "id": "a260ee7f-3106-4a65-a00a-7e5309fa12e3",
   "metadata": {},
   "outputs": [
    {
     "data": {
      "text/plain": [
       "8"
      ]
     },
     "execution_count": 29,
     "metadata": {},
     "output_type": "execute_result"
    }
   ],
   "source": [
    "# Create dataframes\n",
    "df_1 = spark.range(4, 200, 2)\n",
    "df_2 = spark.range(2, 200, 4)\n",
    "\n",
    "df_2.rdd.getNumPartitions()"
   ]
  },
  {
   "cell_type": "code",
   "execution_count": 30,
   "id": "4a55540d-c12e-4ff5-9366-b02a00536f9c",
   "metadata": {},
   "outputs": [
    {
     "data": {
      "text/plain": [
       "7"
      ]
     },
     "execution_count": 30,
     "metadata": {},
     "output_type": "execute_result"
    }
   ],
   "source": [
    "# Re-partition data\n",
    "df_3 = df_1.repartition(5)\n",
    "df_4 = df_2.repartition(7)\n",
    "\n",
    "df_4.rdd.getNumPartitions()"
   ]
  },
  {
   "cell_type": "code",
   "execution_count": 31,
   "id": "93f875fe-8533-4107-8e0c-b77e98a3e66d",
   "metadata": {},
   "outputs": [],
   "source": [
    "# Join the dataframes\n",
    "# default partition for shuffle in spark is 200 and can adjust through config\n",
    "\n",
    "df_joined = df_3.join(df_4, on=\"id\")"
   ]
  },
  {
   "cell_type": "code",
   "execution_count": 32,
   "id": "e1e0553a-6898-4bf8-918f-d87b0cc69b2f",
   "metadata": {},
   "outputs": [
    {
     "name": "stdout",
     "output_type": "stream",
     "text": [
      "+------+\n",
      "|sum_id|\n",
      "+------+\n",
      "|  4998|\n",
      "+------+\n",
      "\n"
     ]
    },
    {
     "name": "stderr",
     "output_type": "stream",
     "text": [
      "                                                                                \r"
     ]
    }
   ],
   "source": [
    "# Get the sum of ids\n",
    "# 6 stages and 229 tasks(running parallel)\n",
    "# 229 tasks (parallel to each partition) - 8 + 8 + 5 + 7 + 200 + 1\n",
    "\n",
    "df_sum = df_joined.selectExpr(\"sum(id) as sum_id\")\n",
    "\n",
    "df_sum.show()"
   ]
  },
  {
   "cell_type": "code",
   "execution_count": 33,
   "id": "3597b8ba-5f0e-44af-af50-355e2c1492cd",
   "metadata": {},
   "outputs": [
    {
     "name": "stdout",
     "output_type": "stream",
     "text": [
      "== Physical Plan ==\n",
      "*(6) HashAggregate(keys=[], functions=[sum(id#47L)])\n",
      "+- Exchange SinglePartition, ENSURE_REQUIREMENTS, [plan_id=351]\n",
      "   +- *(5) HashAggregate(keys=[], functions=[partial_sum(id#47L)])\n",
      "      +- *(5) Project [id#47L]\n",
      "         +- *(5) SortMergeJoin [id#47L], [id#49L], Inner\n",
      "            :- *(2) Sort [id#47L ASC NULLS FIRST], false, 0\n",
      "            :  +- Exchange hashpartitioning(id#47L, 200), ENSURE_REQUIREMENTS, [plan_id=335]\n",
      "            :     +- Exchange RoundRobinPartitioning(5), REPARTITION_BY_NUM, [plan_id=334]\n",
      "            :        +- *(1) Range (4, 200, step=2, splits=8)\n",
      "            +- *(4) Sort [id#49L ASC NULLS FIRST], false, 0\n",
      "               +- Exchange hashpartitioning(id#49L, 200), ENSURE_REQUIREMENTS, [plan_id=342]\n",
      "                  +- Exchange RoundRobinPartitioning(7), REPARTITION_BY_NUM, [plan_id=341]\n",
      "                     +- *(3) Range (2, 200, step=4, splits=8)\n",
      "\n",
      "\n"
     ]
    }
   ],
   "source": [
    "# Explain plan\n",
    "\n",
    "df_sum.explain()"
   ]
  },
  {
   "cell_type": "code",
   "execution_count": 35,
   "id": "d1966899-21d9-4d54-b8f4-8276ed4ca522",
   "metadata": {},
   "outputs": [
    {
     "name": "stdout",
     "output_type": "stream",
     "text": [
      "+------+\n",
      "|sum_id|\n",
      "+------+\n",
      "|  4998|\n",
      "|     2|\n",
      "|    46|\n",
      "|    58|\n",
      "|    90|\n",
      "|   102|\n",
      "|   138|\n",
      "|   158|\n",
      "|   194|\n",
      "|    18|\n",
      "|    38|\n",
      "|    74|\n",
      "|   166|\n",
      "|   174|\n",
      "|    30|\n",
      "|    66|\n",
      "|    98|\n",
      "|   122|\n",
      "|   146|\n",
      "|   162|\n",
      "+------+\n",
      "only showing top 20 rows\n",
      "\n"
     ]
    }
   ],
   "source": [
    "# Union the data again to see the skipped stages\n",
    "# As a primary benefits of shuffle writes, earlier stages will be skipped \n",
    "\n",
    "df_union = df_sum.union(df_4)\n",
    "\n",
    "df_union.show()"
   ]
  },
  {
   "cell_type": "code",
   "execution_count": 36,
   "id": "e4f00acb-2aa7-4b4e-a725-f01d77913c21",
   "metadata": {},
   "outputs": [
    {
     "name": "stdout",
     "output_type": "stream",
     "text": [
      "== Physical Plan ==\n",
      "Union\n",
      ":- *(6) HashAggregate(keys=[], functions=[sum(id#47L)])\n",
      ":  +- Exchange SinglePartition, ENSURE_REQUIREMENTS, [plan_id=589]\n",
      ":     +- *(5) HashAggregate(keys=[], functions=[partial_sum(id#47L)])\n",
      ":        +- *(5) Project [id#47L]\n",
      ":           +- *(5) SortMergeJoin [id#47L], [id#49L], Inner\n",
      ":              :- *(2) Sort [id#47L ASC NULLS FIRST], false, 0\n",
      ":              :  +- Exchange hashpartitioning(id#47L, 200), ENSURE_REQUIREMENTS, [plan_id=573]\n",
      ":              :     +- Exchange RoundRobinPartitioning(5), REPARTITION_BY_NUM, [plan_id=572]\n",
      ":              :        +- *(1) Range (4, 200, step=2, splits=8)\n",
      ":              +- *(4) Sort [id#49L ASC NULLS FIRST], false, 0\n",
      ":                 +- Exchange hashpartitioning(id#49L, 200), ENSURE_REQUIREMENTS, [plan_id=580]\n",
      ":                    +- Exchange RoundRobinPartitioning(7), REPARTITION_BY_NUM, [plan_id=579]\n",
      ":                       +- *(3) Range (2, 200, step=4, splits=8)\n",
      "+- ReusedExchange [id#70L], Exchange RoundRobinPartitioning(7), REPARTITION_BY_NUM, [plan_id=579]\n",
      "\n",
      "\n"
     ]
    }
   ],
   "source": [
    "# Explain plan\n",
    "df_union.explain()"
   ]
  },
  {
   "cell_type": "code",
   "execution_count": 37,
   "id": "04038ed1-09d5-45cc-be91-dd9ec02fc565",
   "metadata": {},
   "outputs": [
    {
     "data": {
      "text/plain": [
       "MapPartitionsRDD[70] at javaToPython at NativeMethodAccessorImpl.java:0"
      ]
     },
     "execution_count": 37,
     "metadata": {},
     "output_type": "execute_result"
    }
   ],
   "source": [
    "# DataFrame to RDD\n",
    "# Use RDD, When you have to distribute the data physically with help of user-code \n",
    "# or if we need to work with spark-core API's extensively otherwise it is never recommended\n",
    "\n",
    "df_1.rdd"
   ]
  },
  {
   "cell_type": "code",
   "execution_count": 3,
   "id": "678df76b-f420-42e0-b8af-b87c6f53f0a9",
   "metadata": {},
   "outputs": [],
   "source": [
    "# Spark pipelining concept implies spark will try to pack as \n",
    "# much as transformation into single stage and whenever it encounters\n",
    "# shuffle or exchange it will create another stage\n",
    "spark.stop()"
   ]
  },
  {
   "cell_type": "code",
   "execution_count": null,
   "id": "506f7278-4e95-4d2f-8ac2-19d1dbf6b8bc",
   "metadata": {},
   "outputs": [],
   "source": []
  }
 ],
 "metadata": {
  "kernelspec": {
   "display_name": "Python 3 (ipykernel)",
   "language": "python",
   "name": "python3"
  },
  "language_info": {
   "codemirror_mode": {
    "name": "ipython",
    "version": 3
   },
   "file_extension": ".py",
   "mimetype": "text/x-python",
   "name": "python",
   "nbconvert_exporter": "python",
   "pygments_lexer": "ipython3",
   "version": "3.12.7"
  }
 },
 "nbformat": 4,
 "nbformat_minor": 5
}
