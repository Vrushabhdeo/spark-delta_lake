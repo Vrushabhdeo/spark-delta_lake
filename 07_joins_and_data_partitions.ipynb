{
 "cells": [
  {
   "cell_type": "code",
   "execution_count": 3,
   "id": "ac8d4462-39fd-4775-b675-b55bcd13f4cd",
   "metadata": {},
   "outputs": [
    {
     "name": "stdout",
     "output_type": "stream",
     "text": [
      "+-----------+-------------+-------------+---+------+------+----------+\n",
      "|employee_id|department_id|         name|age|gender|salary| hire_date|\n",
      "+-----------+-------------+-------------+---+------+------+----------+\n",
      "|        001|          101|     John Doe| 30|  Male| 50000|2015-01-01|\n",
      "|        002|          101|   Jane Smith| 25|Female| 45000|2016-02-15|\n",
      "|        003|          102|    Bob Brown| 35|  Male| 55000|2014-05-01|\n",
      "|        004|          102|    Alice Lee| 28|Female| 48000|2017-09-30|\n",
      "|        005|          103|    Jack Chan| 40|  Male| 60000|2013-04-01|\n",
      "|        006|          103|    Jill Wong| 32|Female| 52000|2018-07-01|\n",
      "|        007|          101|James Johnson| 42|  Male| 70000|2012-03-15|\n",
      "|        008|          102|     Kate Kim| 29|Female| 51000|2019-10-01|\n",
      "|        009|          103|      Tom Tan| 33|  Male| 58000|2016-06-01|\n",
      "|        010|          104|     Lisa Lee| 27|Female| 47000|2018-08-01|\n",
      "|        011|          104|   David Park| 38|  Male| 65000|2015-11-01|\n",
      "|        012|          105|   Susan Chen| 31|Female| 54000|2017-02-15|\n",
      "|        013|          106|    Brian Kim| 45|  Male| 75000|2011-07-01|\n",
      "|        014|          107|    Emily Lee| 26|Female| 46000|2019-01-01|\n",
      "|        015|          106|  Michael Lee| 37|  Male| 63000|2014-09-30|\n",
      "|        016|          107|  Kelly Zhang| 30|Female| 49000|2018-04-01|\n",
      "|        017|          105|  George Wang| 34|  Male| 57000|2016-03-15|\n",
      "|        018|          104|    Nancy Liu| 29|      | 50000|2017-06-01|\n",
      "|        019|          103|  Steven Chen| 36|  Male| 62000|2015-08-01|\n",
      "|        020|          102|    Grace Kim| 32|Female| 53000|2018-11-01|\n",
      "+-----------+-------------+-------------+---+------+------+----------+\n",
      "\n",
      "+-------------+--------------------+-------+---------+-------+\n",
      "|department_id|     department_name|   city|  country| budget|\n",
      "+-------------+--------------------+-------+---------+-------+\n",
      "|          101|               Sales|    NYC|       US|1000000|\n",
      "|          102|           Marketing|     LA|       US| 900000|\n",
      "|          103|             Finance| London|       UK|1200000|\n",
      "|          104|         Engineering|Beijing|    China|1500000|\n",
      "|          105|     Human Resources|  Tokyo|    Japan| 800000|\n",
      "|          106|Research and Deve...|  Perth|Australia|1100000|\n",
      "|          107|    Customer Service| Sydney|Australia| 950000|\n",
      "+-------------+--------------------+-------+---------+-------+\n",
      "\n",
      "root\n",
      " |-- employee_id: string (nullable = true)\n",
      " |-- department_id: string (nullable = true)\n",
      " |-- name: string (nullable = true)\n",
      " |-- age: string (nullable = true)\n",
      " |-- gender: string (nullable = true)\n",
      " |-- salary: string (nullable = true)\n",
      " |-- hire_date: string (nullable = true)\n",
      "\n",
      "root\n",
      " |-- department_id: string (nullable = true)\n",
      " |-- department_name: string (nullable = true)\n",
      " |-- city: string (nullable = true)\n",
      " |-- country: string (nullable = true)\n",
      " |-- budget: string (nullable = true)\n",
      "\n"
     ]
    }
   ],
   "source": [
    "# Spark Session\n",
    "from pyspark.sql import SparkSession\n",
    "\n",
    "spark = (\n",
    "    SparkSession\n",
    "    .builder\n",
    "    .appName(\"Joins and Data Partitions\")\n",
    "    .master(\"local[*]\")\n",
    "    .getOrCreate()\n",
    ")\n",
    "\n",
    "spark\n",
    "\n",
    "# Emp Data & Schema\n",
    "\n",
    "emp_data = [\n",
    "    [\"001\",\"101\",\"John Doe\",\"30\",\"Male\",\"50000\",\"2015-01-01\"],\n",
    "    [\"002\",\"101\",\"Jane Smith\",\"25\",\"Female\",\"45000\",\"2016-02-15\"],\n",
    "    [\"003\",\"102\",\"Bob Brown\",\"35\",\"Male\",\"55000\",\"2014-05-01\"],\n",
    "    [\"004\",\"102\",\"Alice Lee\",\"28\",\"Female\",\"48000\",\"2017-09-30\"],\n",
    "    [\"005\",\"103\",\"Jack Chan\",\"40\",\"Male\",\"60000\",\"2013-04-01\"],\n",
    "    [\"006\",\"103\",\"Jill Wong\",\"32\",\"Female\",\"52000\",\"2018-07-01\"],\n",
    "    [\"007\",\"101\",\"James Johnson\",\"42\",\"Male\",\"70000\",\"2012-03-15\"],\n",
    "    [\"008\",\"102\",\"Kate Kim\",\"29\",\"Female\",\"51000\",\"2019-10-01\"],\n",
    "    [\"009\",\"103\",\"Tom Tan\",\"33\",\"Male\",\"58000\",\"2016-06-01\"],\n",
    "    [\"010\",\"104\",\"Lisa Lee\",\"27\",\"Female\",\"47000\",\"2018-08-01\"],\n",
    "    [\"011\",\"104\",\"David Park\",\"38\",\"Male\",\"65000\",\"2015-11-01\"],\n",
    "    [\"012\",\"105\",\"Susan Chen\",\"31\",\"Female\",\"54000\",\"2017-02-15\"],\n",
    "    [\"013\",\"106\",\"Brian Kim\",\"45\",\"Male\",\"75000\",\"2011-07-01\"],\n",
    "    [\"014\",\"107\",\"Emily Lee\",\"26\",\"Female\",\"46000\",\"2019-01-01\"],\n",
    "    [\"015\",\"106\",\"Michael Lee\",\"37\",\"Male\",\"63000\",\"2014-09-30\"],\n",
    "    [\"016\",\"107\",\"Kelly Zhang\",\"30\",\"Female\",\"49000\",\"2018-04-01\"],\n",
    "    [\"017\",\"105\",\"George Wang\",\"34\",\"Male\",\"57000\",\"2016-03-15\"],\n",
    "    [\"018\",\"104\",\"Nancy Liu\",\"29\",\"\",\"50000\",\"2017-06-01\"],\n",
    "    [\"019\",\"103\",\"Steven Chen\",\"36\",\"Male\",\"62000\",\"2015-08-01\"],\n",
    "    [\"020\",\"102\",\"Grace Kim\",\"32\",\"Female\",\"53000\",\"2018-11-01\"]\n",
    "]\n",
    "\n",
    "emp_schema = \"employee_id string, department_id string, name string, age string, gender string, salary string, hire_date string\"\n",
    "\n",
    "dept_data = [\n",
    "    [\"101\", \"Sales\", \"NYC\", \"US\", \"1000000\"],\n",
    "    [\"102\", \"Marketing\", \"LA\", \"US\", \"900000\"],\n",
    "    [\"103\", \"Finance\", \"London\", \"UK\", \"1200000\"],\n",
    "    [\"104\", \"Engineering\", \"Beijing\", \"China\", \"1500000\"],\n",
    "    [\"105\", \"Human Resources\", \"Tokyo\", \"Japan\", \"800000\"],\n",
    "    [\"106\", \"Research and Development\", \"Perth\", \"Australia\", \"1100000\"],\n",
    "    [\"107\", \"Customer Service\", \"Sydney\", \"Australia\", \"950000\"]\n",
    "]\n",
    "\n",
    "dept_schema = \"department_id string, department_name string, city string, country string, budget string\"\n",
    "\n",
    "# Create emp & dept DataFrame\n",
    "\n",
    "emp = spark.createDataFrame(data=emp_data, schema=emp_schema)\n",
    "dept = spark.createDataFrame(data=dept_data, schema=dept_schema)\n",
    "\n",
    "# Show emp dataframe (ACTION)\n",
    "\n",
    "emp.show()\n",
    "dept.show()\n",
    "\n",
    "# Print Schema\n",
    "\n",
    "emp.printSchema()\n",
    "dept.printSchema()"
   ]
  },
  {
   "cell_type": "code",
   "execution_count": 27,
   "id": "d96dddd2-026a-4e67-a46e-92a1c2f1d018",
   "metadata": {},
   "outputs": [
    {
     "data": {
      "text/plain": [
       "8"
      ]
     },
     "execution_count": 27,
     "metadata": {},
     "output_type": "execute_result"
    }
   ],
   "source": [
    "# Get number of partitions for emp\n",
    "emp.rdd.getNumPartitions()"
   ]
  },
  {
   "cell_type": "code",
   "execution_count": 28,
   "id": "82d98404-3d28-44ab-9dbc-a6fa704ed37c",
   "metadata": {},
   "outputs": [
    {
     "data": {
      "text/plain": [
       "8"
      ]
     },
     "execution_count": 28,
     "metadata": {},
     "output_type": "execute_result"
    }
   ],
   "source": [
    "# Get number of partitions for dept\n",
    "dept.rdd.getNumPartitions()"
   ]
  },
  {
   "cell_type": "code",
   "execution_count": 40,
   "id": "bce9fc27-ed12-463f-8ddd-202ca01b85e3",
   "metadata": {},
   "outputs": [
    {
     "data": {
      "text/plain": [
       "4"
      ]
     },
     "execution_count": 40,
     "metadata": {},
     "output_type": "execute_result"
    }
   ],
   "source": [
    "# Repartition of data using repartition\n",
    "# repartition() increases or decreases the partitions\n",
    "# repartition causes full re-shuffle\n",
    "emp_repartitioned = emp.repartition(4, \"department_id\")\n",
    "\n",
    "# emp_partitioned.rdd.getNumPartitions()\n",
    "emp_repartitioned.rdd.getNumPartitions()"
   ]
  },
  {
   "cell_type": "code",
   "execution_count": 42,
   "id": "54210fa6-90cf-47db-a6d6-cb20b3e334b5",
   "metadata": {},
   "outputs": [
    {
     "data": {
      "text/plain": [
       "5"
      ]
     },
     "execution_count": 42,
     "metadata": {},
     "output_type": "execute_result"
    }
   ],
   "source": [
    "# Repartition of data using coalesce\n",
    "# coalesce() only decreases the number of partitions\n",
    "# coalesce() does not trigger a shuffle\n",
    "emp_coalesce = emp.coalesce(5)\n",
    "\n",
    "# emp_partitioned.rdd.getNumPartitions()\n",
    "emp_coalesce.rdd.getNumPartitions()"
   ]
  },
  {
   "cell_type": "code",
   "execution_count": 52,
   "id": "6c88cc57-27d6-44ec-a308-37a15db654db",
   "metadata": {},
   "outputs": [
    {
     "name": "stdout",
     "output_type": "stream",
     "text": [
      "+-----------+-------------+-------------+---+------+------+----------+------------+\n",
      "|employee_id|department_id|         name|age|gender|salary| hire_date|partition_id|\n",
      "+-----------+-------------+-------------+---+------+------+----------+------------+\n",
      "|        003|          102|    Bob Brown| 35|  Male| 55000|2014-05-01|           0|\n",
      "|        004|          102|    Alice Lee| 28|Female| 48000|2017-09-30|           0|\n",
      "|        008|          102|     Kate Kim| 29|Female| 51000|2019-10-01|           0|\n",
      "|        014|          107|    Emily Lee| 26|Female| 46000|2019-01-01|           0|\n",
      "|        016|          107|  Kelly Zhang| 30|Female| 49000|2018-04-01|           0|\n",
      "|        020|          102|    Grace Kim| 32|Female| 53000|2018-11-01|           0|\n",
      "|        012|          105|   Susan Chen| 31|Female| 54000|2017-02-15|           1|\n",
      "|        017|          105|  George Wang| 34|  Male| 57000|2016-03-15|           1|\n",
      "|        010|          104|     Lisa Lee| 27|Female| 47000|2018-08-01|           2|\n",
      "|        011|          104|   David Park| 38|  Male| 65000|2015-11-01|           2|\n",
      "|        013|          106|    Brian Kim| 45|  Male| 75000|2011-07-01|           2|\n",
      "|        015|          106|  Michael Lee| 37|  Male| 63000|2014-09-30|           2|\n",
      "|        018|          104|    Nancy Liu| 29|      | 50000|2017-06-01|           2|\n",
      "|        001|          101|     John Doe| 30|  Male| 50000|2015-01-01|           3|\n",
      "|        002|          101|   Jane Smith| 25|Female| 45000|2016-02-15|           3|\n",
      "|        005|          103|    Jack Chan| 40|  Male| 60000|2013-04-01|           3|\n",
      "|        006|          103|    Jill Wong| 32|Female| 52000|2018-07-01|           3|\n",
      "|        007|          101|James Johnson| 42|  Male| 70000|2012-03-15|           3|\n",
      "|        009|          103|      Tom Tan| 33|  Male| 58000|2016-06-01|           3|\n",
      "|        019|          103|  Steven Chen| 36|  Male| 62000|2015-08-01|           3|\n",
      "+-----------+-------------+-------------+---+------+------+----------+------------+\n",
      "\n"
     ]
    }
   ],
   "source": [
    "# Find the partition info for partitions and reparition\n",
    "\n",
    "from pyspark.sql.functions import spark_partition_id\n",
    "\n",
    "emp_repartitioned_id = emp.repartition(4, \"department_id\").withColumn(\"partition_id\", spark_partition_id())\n",
    "emp_repartitioned_id.show()"
   ]
  },
  {
   "cell_type": "code",
   "execution_count": 56,
   "id": "bd009096-8e7b-4ea1-89c3-4c1fb26f8dbd",
   "metadata": {},
   "outputs": [
    {
     "name": "stdout",
     "output_type": "stream",
     "text": [
      "+-----------+-------------+-------------+---+------+------+----------+-------------+------------------------+-------+---------+-------+\n",
      "|employee_id|department_id|name         |age|gender|salary|hire_date |department_id|department_name         |city   |country  |budget |\n",
      "+-----------+-------------+-------------+---+------+------+----------+-------------+------------------------+-------+---------+-------+\n",
      "|001        |101          |John Doe     |30 |Male  |50000 |2015-01-01|101          |Sales                   |NYC    |US       |1000000|\n",
      "|002        |101          |Jane Smith   |25 |Female|45000 |2016-02-15|101          |Sales                   |NYC    |US       |1000000|\n",
      "|007        |101          |James Johnson|42 |Male  |70000 |2012-03-15|101          |Sales                   |NYC    |US       |1000000|\n",
      "|003        |102          |Bob Brown    |35 |Male  |55000 |2014-05-01|102          |Marketing               |LA     |US       |900000 |\n",
      "|004        |102          |Alice Lee    |28 |Female|48000 |2017-09-30|102          |Marketing               |LA     |US       |900000 |\n",
      "|008        |102          |Kate Kim     |29 |Female|51000 |2019-10-01|102          |Marketing               |LA     |US       |900000 |\n",
      "|020        |102          |Grace Kim    |32 |Female|53000 |2018-11-01|102          |Marketing               |LA     |US       |900000 |\n",
      "|005        |103          |Jack Chan    |40 |Male  |60000 |2013-04-01|103          |Finance                 |London |UK       |1200000|\n",
      "|006        |103          |Jill Wong    |32 |Female|52000 |2018-07-01|103          |Finance                 |London |UK       |1200000|\n",
      "|009        |103          |Tom Tan      |33 |Male  |58000 |2016-06-01|103          |Finance                 |London |UK       |1200000|\n",
      "|019        |103          |Steven Chen  |36 |Male  |62000 |2015-08-01|103          |Finance                 |London |UK       |1200000|\n",
      "|010        |104          |Lisa Lee     |27 |Female|47000 |2018-08-01|104          |Engineering             |Beijing|China    |1500000|\n",
      "|011        |104          |David Park   |38 |Male  |65000 |2015-11-01|104          |Engineering             |Beijing|China    |1500000|\n",
      "|018        |104          |Nancy Liu    |29 |      |50000 |2017-06-01|104          |Engineering             |Beijing|China    |1500000|\n",
      "|012        |105          |Susan Chen   |31 |Female|54000 |2017-02-15|105          |Human Resources         |Tokyo  |Japan    |800000 |\n",
      "|017        |105          |George Wang  |34 |Male  |57000 |2016-03-15|105          |Human Resources         |Tokyo  |Japan    |800000 |\n",
      "|013        |106          |Brian Kim    |45 |Male  |75000 |2011-07-01|106          |Research and Development|Perth  |Australia|1100000|\n",
      "|015        |106          |Michael Lee  |37 |Male  |63000 |2014-09-30|106          |Research and Development|Perth  |Australia|1100000|\n",
      "|014        |107          |Emily Lee    |26 |Female|46000 |2019-01-01|107          |Customer Service        |Sydney |Australia|950000 |\n",
      "|016        |107          |Kelly Zhang  |30 |Female|49000 |2018-04-01|107          |Customer Service        |Sydney |Australia|950000 |\n",
      "+-----------+-------------+-------------+---+------+------+----------+-------------+------------------------+-------+---------+-------+\n",
      "\n"
     ]
    }
   ],
   "source": [
    "# INNER JOIN datasets\n",
    "# select e.emp_name, d.department_name, d.department_id, e.salary \n",
    "# from emp e inner join dept d on emp.department_id = dept.department_id\n",
    "\n",
    "emp_inner_joined = emp.alias(\"e\").join(dept.alias(\"d\"), how=\"inner\", on = emp.department_id == dept.department_id)\n",
    "emp_inner_joined.show(truncate = False)"
   ]
  },
  {
   "cell_type": "code",
   "execution_count": 58,
   "id": "3d150f55-528e-42b3-8e9a-0a936e02659e",
   "metadata": {},
   "outputs": [
    {
     "name": "stdout",
     "output_type": "stream",
     "text": [
      "+-------------+--------------------+-------------+------+\n",
      "|         name|     department_name|department_id|salary|\n",
      "+-------------+--------------------+-------------+------+\n",
      "|     John Doe|               Sales|          101| 50000|\n",
      "|   Jane Smith|               Sales|          101| 45000|\n",
      "|    Bob Brown|           Marketing|          102| 55000|\n",
      "|    Alice Lee|           Marketing|          102| 48000|\n",
      "|    Jack Chan|             Finance|          103| 60000|\n",
      "|    Jill Wong|             Finance|          103| 52000|\n",
      "|James Johnson|               Sales|          101| 70000|\n",
      "|     Lisa Lee|         Engineering|          104| 47000|\n",
      "|     Kate Kim|           Marketing|          102| 51000|\n",
      "|      Tom Tan|             Finance|          103| 58000|\n",
      "|   David Park|         Engineering|          104| 65000|\n",
      "|   Susan Chen|     Human Resources|          105| 54000|\n",
      "|    Emily Lee|    Customer Service|          107| 46000|\n",
      "|    Brian Kim|Research and Deve...|          106| 75000|\n",
      "|  Kelly Zhang|    Customer Service|          107| 49000|\n",
      "|  Michael Lee|Research and Deve...|          106| 63000|\n",
      "|    Nancy Liu|         Engineering|          104| 50000|\n",
      "|    Grace Kim|           Marketing|          102| 53000|\n",
      "|  Steven Chen|             Finance|          103| 62000|\n",
      "|  George Wang|     Human Resources|          105| 57000|\n",
      "+-------------+--------------------+-------------+------+\n",
      "\n"
     ]
    }
   ],
   "source": [
    "# LEFT OUTER JOIN datasets\n",
    "# select e.emp_name, d.department_name, d.department_id, e.salary \n",
    "# from emp e left outer join dept d on emp.department_id = dept.department_id\n",
    "\n",
    "emp_left_outer = emp.alias(\"e\").join(dept.alias(\"d\"), how=\"left_outer\", on = emp.department_id == dept.department_id)\n",
    "emp_left_outer.select(\"e.name\", \"d.department_name\", \"d.department_id\", \"e.salary\").show()"
   ]
  },
  {
   "cell_type": "code",
   "execution_count": 60,
   "id": "c5418c91-d9dc-4980-b3da-58688c4489f5",
   "metadata": {},
   "outputs": [],
   "source": [
    "# Write the final dataset\n",
    "\n",
    "emp_left_outer.select(\"e.name\", \"d.department_name\", \"d.department_id\", \"e.salary\").write.format(\"csv\").save(\"data/output/7/emp_joined.csv\")\n"
   ]
  },
  {
   "cell_type": "code",
   "execution_count": 66,
   "id": "bdb24677-022a-41c0-94c9-fe82380af2b9",
   "metadata": {},
   "outputs": [
    {
     "name": "stdout",
     "output_type": "stream",
     "text": [
      "+-----------+-------------+-------------+---+------+------+----------+-------------+---------------+----+-------+-------+\n",
      "|employee_id|department_id|         name|age|gender|salary| hire_date|department_id|department_name|city|country| budget|\n",
      "+-----------+-------------+-------------+---+------+------+----------+-------------+---------------+----+-------+-------+\n",
      "|        001|          101|     John Doe| 30|  Male| 50000|2015-01-01|          101|          Sales| NYC|     US|1000000|\n",
      "|        002|          101|   Jane Smith| 25|Female| 45000|2016-02-15|          101|          Sales| NYC|     US|1000000|\n",
      "|        003|          102|    Bob Brown| 35|  Male| 55000|2014-05-01|          102|      Marketing|  LA|     US| 900000|\n",
      "|        004|          102|    Alice Lee| 28|Female| 48000|2017-09-30|          102|      Marketing|  LA|     US| 900000|\n",
      "|        005|          103|    Jack Chan| 40|  Male| 60000|2013-04-01|         NULL|           NULL|NULL|   NULL|   NULL|\n",
      "|        006|          103|    Jill Wong| 32|Female| 52000|2018-07-01|         NULL|           NULL|NULL|   NULL|   NULL|\n",
      "|        007|          101|James Johnson| 42|  Male| 70000|2012-03-15|          101|          Sales| NYC|     US|1000000|\n",
      "|        010|          104|     Lisa Lee| 27|Female| 47000|2018-08-01|         NULL|           NULL|NULL|   NULL|   NULL|\n",
      "|        008|          102|     Kate Kim| 29|Female| 51000|2019-10-01|          102|      Marketing|  LA|     US| 900000|\n",
      "|        009|          103|      Tom Tan| 33|  Male| 58000|2016-06-01|         NULL|           NULL|NULL|   NULL|   NULL|\n",
      "|        011|          104|   David Park| 38|  Male| 65000|2015-11-01|         NULL|           NULL|NULL|   NULL|   NULL|\n",
      "|        012|          105|   Susan Chen| 31|Female| 54000|2017-02-15|         NULL|           NULL|NULL|   NULL|   NULL|\n",
      "|        014|          107|    Emily Lee| 26|Female| 46000|2019-01-01|         NULL|           NULL|NULL|   NULL|   NULL|\n",
      "|        013|          106|    Brian Kim| 45|  Male| 75000|2011-07-01|         NULL|           NULL|NULL|   NULL|   NULL|\n",
      "|        016|          107|  Kelly Zhang| 30|Female| 49000|2018-04-01|         NULL|           NULL|NULL|   NULL|   NULL|\n",
      "|        015|          106|  Michael Lee| 37|  Male| 63000|2014-09-30|         NULL|           NULL|NULL|   NULL|   NULL|\n",
      "|        018|          104|    Nancy Liu| 29|      | 50000|2017-06-01|         NULL|           NULL|NULL|   NULL|   NULL|\n",
      "|        020|          102|    Grace Kim| 32|Female| 53000|2018-11-01|          102|      Marketing|  LA|     US| 900000|\n",
      "|        019|          103|  Steven Chen| 36|  Male| 62000|2015-08-01|         NULL|           NULL|NULL|   NULL|   NULL|\n",
      "|        017|          105|  George Wang| 34|  Male| 57000|2016-03-15|         NULL|           NULL|NULL|   NULL|   NULL|\n",
      "+-----------+-------------+-------------+---+------+------+----------+-------------+---------------+----+-------+-------+\n",
      "\n"
     ]
    }
   ],
   "source": [
    "# Joins with cascading conditions\n",
    "# Join with Department_id and only for departments 101 or 102\n",
    "# Join with not null/null conditions\n",
    "\n",
    "emp_cascade = emp.alias(\"e\").join(dept.alias(\"d\"), how=\"left_outer\", \n",
    "                                 on = (emp.department_id == dept.department_id) & (\n",
    "                                     (emp.department_id == \"101\") | (emp.department_id == \"102\")) &\n",
    "                                     (emp.salary.isNotNull()))\n",
    "emp_cascade.show()"
   ]
  }
 ],
 "metadata": {
  "kernelspec": {
   "display_name": "Python 3 (ipykernel)",
   "language": "python",
   "name": "python3"
  },
  "language_info": {
   "codemirror_mode": {
    "name": "ipython",
    "version": 3
   },
   "file_extension": ".py",
   "mimetype": "text/x-python",
   "name": "python",
   "nbconvert_exporter": "python",
   "pygments_lexer": "ipython3",
   "version": "3.12.7"
  }
 },
 "nbformat": 4,
 "nbformat_minor": 5
}
