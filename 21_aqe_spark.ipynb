{
 "cells": [
  {
   "cell_type": "code",
   "execution_count": 1,
   "id": "d883ccaa-1d47-4e4c-8e74-c1d1163e0c14",
   "metadata": {},
   "outputs": [
    {
     "name": "stderr",
     "output_type": "stream",
     "text": [
      "Setting default log level to \"WARN\".\n",
      "To adjust logging level use sc.setLogLevel(newLevel). For SparkR, use setLogLevel(newLevel).\n",
      "25/01/24 17:40:22 WARN NativeCodeLoader: Unable to load native-hadoop library for your platform... using builtin-java classes where applicable\n"
     ]
    },
    {
     "data": {
      "text/html": [
       "\n",
       "            <div>\n",
       "                <p><b>SparkSession - in-memory</b></p>\n",
       "                \n",
       "        <div>\n",
       "            <p><b>SparkContext</b></p>\n",
       "\n",
       "            <p><a href=\"http://ip-10-31-5-253.ap-south-1.compute.internal:4040\">Spark UI</a></p>\n",
       "\n",
       "            <dl>\n",
       "              <dt>Version</dt>\n",
       "                <dd><code>v3.5.3</code></dd>\n",
       "              <dt>Master</dt>\n",
       "                <dd><code>local[*]</code></dd>\n",
       "              <dt>AppName</dt>\n",
       "                <dd><code>AQE in Spark</code></dd>\n",
       "            </dl>\n",
       "        </div>\n",
       "        \n",
       "            </div>\n",
       "        "
      ],
      "text/plain": [
       "<pyspark.sql.session.SparkSession at 0x16295b5f0>"
      ]
     },
     "execution_count": 1,
     "metadata": {},
     "output_type": "execute_result"
    }
   ],
   "source": [
    "# Spark Session\n",
    "from pyspark.sql import SparkSession\n",
    "\n",
    "spark = (\n",
    "    SparkSession\n",
    "    .builder\n",
    "    .appName(\"AQE in Spark\")\n",
    "    .master(\"local[*]\")\n",
    "    .config(\"spark.cores.max\", 8)\n",
    "    .config(\"spark.executor.cores\", 4)\n",
    "    .config(\"spark.executor.memory\", \"512M\")\n",
    "    .getOrCreate()\n",
    ")\n",
    "\n",
    "spark"
   ]
  },
  {
   "cell_type": "code",
   "execution_count": 2,
   "id": "afb24d3c-2833-4204-a58b-a0e8f7c561fc",
   "metadata": {},
   "outputs": [],
   "source": [
    "# Disable AQE and Broadcast join\n",
    "\n",
    "spark.conf.set(\"spark.sql.adaptive.enabled\", False)\n",
    "spark.conf.set(\"spark.sql.adaptive.coalescePartitions.enabled\", False)\n",
    "spark.conf.set(\"spark.sql.autoBroadcastJoinThreshold\", -1)"
   ]
  },
  {
   "cell_type": "code",
   "execution_count": 3,
   "id": "fd33fa7b-43d9-4790-909e-384ca9c1370e",
   "metadata": {},
   "outputs": [],
   "source": [
    "# Read Employee data\n",
    "_schema = \"first_name string, last_name string, job_title string, dob string, email string, phone string, salary double, department_id int\"\n",
    "\n",
    "emp = spark.read.format(\"csv\").schema(_schema).option(\"header\", True).load(\"data/input/employee_records.csv\")\n"
   ]
  },
  {
   "cell_type": "code",
   "execution_count": 4,
   "id": "2aeb3abe-ff1d-4980-a04b-2bffc7353c3b",
   "metadata": {},
   "outputs": [],
   "source": [
    "# Read DEPT CSV data\n",
    "_dept_schema = \"department_id int, department_name string, description string, city string, state string, country string\"\n",
    "\n",
    "dept = spark.read.format(\"csv\").schema(_dept_schema).option(\"header\", True).load(\"data/input/department_data.csv\")"
   ]
  },
  {
   "cell_type": "code",
   "execution_count": 17,
   "id": "e21a0a4b-7146-420d-bbfa-fc9516dffe8f",
   "metadata": {},
   "outputs": [
    {
     "name": "stderr",
     "output_type": "stream",
     "text": [
      "                                                                                \r"
     ]
    }
   ],
   "source": [
    "# Join Datasets\n",
    "\n",
    "emp_joined = emp.join(dept, on=emp.department_id==dept.department_id, how=\"left_outer\")\n",
    "\n",
    "emp_joined.write.format('noop').mode('overwrite').save()"
   ]
  },
  {
   "cell_type": "code",
   "execution_count": 10,
   "id": "c43c614b-6e16-4c78-9449-f2031105fb1a",
   "metadata": {},
   "outputs": [
    {
     "name": "stdout",
     "output_type": "stream",
     "text": [
      "== Physical Plan ==\n",
      "*(4) SortMergeJoin [department_id#7], [department_id#16], LeftOuter\n",
      ":- *(1) Sort [department_id#7 ASC NULLS FIRST], false, 0\n",
      ":  +- Exchange hashpartitioning(department_id#7, 200), ENSURE_REQUIREMENTS, [plan_id=17]\n",
      ":     +- FileScan csv [first_name#0,last_name#1,job_title#2,dob#3,email#4,phone#5,salary#6,department_id#7] Batched: false, DataFilters: [], Format: CSV, Location: InMemoryFileIndex(1 paths)[file:/Users/vrushabh.deokar/pysparkBasics/data/input/employee_records...., PartitionFilters: [], PushedFilters: [], ReadSchema: struct<first_name:string,last_name:string,job_title:string,dob:string,email:string,phone:string,s...\n",
      "+- *(3) Sort [department_id#16 ASC NULLS FIRST], false, 0\n",
      "   +- Exchange hashpartitioning(department_id#16, 200), ENSURE_REQUIREMENTS, [plan_id=29]\n",
      "      +- *(2) Filter isnotnull(department_id#16)\n",
      "         +- FileScan csv [department_id#16,department_name#17,description#18,city#19,state#20,country#21] Batched: false, DataFilters: [isnotnull(department_id#16)], Format: CSV, Location: InMemoryFileIndex(1 paths)[file:/Users/vrushabh.deokar/pysparkBasics/data/input/department_data.csv], PartitionFilters: [], PushedFilters: [IsNotNull(department_id)], ReadSchema: struct<department_id:int,department_name:string,description:string,city:string,state:string,count...\n",
      "\n",
      "\n"
     ]
    }
   ],
   "source": [
    "#Explain Plan\n",
    "emp_joined.explain()"
   ]
  },
  {
   "cell_type": "code",
   "execution_count": 15,
   "id": "edecf328-5f1d-45c5-bd0e-96cb52e635b3",
   "metadata": {},
   "outputs": [],
   "source": [
    "# Coalescing post-shuffle partitions - remove un-necessary shuffle partitions\n",
    "# Skewed join optimization (balance partitions size) - join smaller partitions and split bigger partition\n",
    "\n",
    "spark.conf.set(\"spark.sql.adaptive.enabled\", True)\n",
    "spark.conf.set(\"spark.sql.adaptive.coalescePartitions.enabled\", True)\n"
   ]
  },
  {
   "cell_type": "code",
   "execution_count": 16,
   "id": "40530e17-bdb0-4b84-85fe-4e8e12073cca",
   "metadata": {},
   "outputs": [],
   "source": [
    "# Fix partition sizes to avoid Skew\n",
    "# advisoryPartitionSizeInBytes - The size in Suffle partitions during adaptive optimization. \n",
    "# skewedPartitionThresholdInBytes - A partition is considered as skewed if it is excedding this Threshold\n",
    "\n",
    "spark.conf.set(\"spark.sql.adaptive.advisoryPartitionSizeInBytes\", \"8MB\") #Default value: 64MB\n",
    "spark.conf.set(\"spark.sql.adaptive.skewJoin.skewedPartitionThresholdInBytes\", \"10MB\") #Default value: 256MB"
   ]
  },
  {
   "cell_type": "code",
   "execution_count": 18,
   "id": "54576993-280f-4e13-a837-deb31d6205f6",
   "metadata": {},
   "outputs": [],
   "source": [
    "# Converting sort-merge join to broadcast join\n",
    "\n",
    "spark.conf.set(\"spark.sql.autoBroadcastJoinThreshold\", \"10MB\")"
   ]
  },
  {
   "cell_type": "code",
   "execution_count": 20,
   "id": "73b6b555-0ff4-4fcb-a2de-33c2cf9a5bc8",
   "metadata": {},
   "outputs": [],
   "source": [
    "# Join Datasets - without specifying specific broadcast table\n",
    "\n",
    "# Earlier used to give like below \n",
    "# from pyspark.sql.functions import broadcast\n",
    "# emp_joined = emp.join(broadcast(dept), on=emp.department_id==dept.department_id, how=\"left_outer\")\n",
    "\n",
    "emp_joined = emp.join(dept, on=emp.department_id==dept.department_id, how=\"left_outer\")\n",
    "\n",
    "emp_joined.write.format('noop').mode('overwrite').save()"
   ]
  },
  {
   "cell_type": "code",
   "execution_count": null,
   "id": "740761db-9095-4cf2-915f-c03ab572a404",
   "metadata": {},
   "outputs": [],
   "source": [
    "# https://spark.apache.org/docs/latest/sql-performance-tuning.html#adaptive-query-execution"
   ]
  }
 ],
 "metadata": {
  "kernelspec": {
   "display_name": "Python 3 (ipykernel)",
   "language": "python",
   "name": "python3"
  },
  "language_info": {
   "codemirror_mode": {
    "name": "ipython",
    "version": 3
   },
   "file_extension": ".py",
   "mimetype": "text/x-python",
   "name": "python",
   "nbconvert_exporter": "python",
   "pygments_lexer": "ipython3",
   "version": "3.12.7"
  }
 },
 "nbformat": 4,
 "nbformat_minor": 5
}
