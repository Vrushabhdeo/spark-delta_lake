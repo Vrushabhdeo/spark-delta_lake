{
 "cells": [
  {
   "cell_type": "code",
   "execution_count": null,
   "id": "54c87016-d7bf-4d1a-94df-18eb327ce8ec",
   "metadata": {},
   "outputs": [],
   "source": [
    "# Spark Session\n",
    "from pyspark.sql import SparkSession\n",
    "\n",
    "spark = (\n",
    "    SparkSession\n",
    "    .builder\n",
    "    .appName(\"Unique data & Window Functions\")\n",
    "    .master(\"local[*]\")\n",
    "    .getOrCreate()\n",
    ")\n",
    "\n",
    "spark\n",
    "\n",
    "\n",
    "# Emp Data & Schema\n",
    "\n",
    "emp_data = [\n",
    "    [\"001\",\"101\",\"John Doe\",\"30\",\"Male\",\"50000\",\"2015-01-01\"],\n",
    "    [\"002\",\"101\",\"Jane Smith\",\"25\",\"Female\",\"45000\",\"2016-02-15\"],\n",
    "    [\"003\",\"102\",\"Bob Brown\",\"35\",\"Male\",\"55000\",\"2014-05-01\"],\n",
    "    [\"004\",\"102\",\"Alice Lee\",\"28\",\"Female\",\"48000\",\"2017-09-30\"],\n",
    "    [\"005\",\"103\",\"Jack Chan\",\"40\",\"Male\",\"60000\",\"2013-04-01\"],\n",
    "    [\"006\",\"103\",\"Jill Wong\",\"32\",\"Female\",\"52000\",\"2018-07-01\"],\n",
    "    [\"007\",\"101\",\"James Johnson\",\"42\",\"Male\",\"70000\",\"2012-03-15\"],\n",
    "    [\"008\",\"102\",\"Kate Kim\",\"29\",\"Female\",\"51000\",\"2019-10-01\"],\n",
    "    [\"009\",\"103\",\"Tom Tan\",\"33\",\"Male\",\"58000\",\"2016-06-01\"],\n",
    "    [\"010\",\"104\",\"Lisa Lee\",\"27\",\"Female\",\"47000\",\"2018-08-01\"],\n",
    "    [\"011\",\"104\",\"David Park\",\"38\",\"Male\",\"65000\",\"2015-11-01\"],\n",
    "    [\"012\",\"105\",\"Susan Chen\",\"31\",\"Female\",\"54000\",\"2017-02-15\"],\n",
    "    [\"013\",\"106\",\"Brian Kim\",\"45\",\"Male\",\"75000\",\"2011-07-01\"],\n",
    "    [\"014\",\"107\",\"Emily Lee\",\"26\",\"Female\",\"46000\",\"2019-01-01\"],\n",
    "    [\"015\",\"106\",\"Michael Lee\",\"37\",\"Male\",\"63000\",\"2014-09-30\"],\n",
    "    [\"016\",\"107\",\"Kelly Zhang\",\"30\",\"Female\",\"49000\",\"2018-04-01\"],\n",
    "    [\"017\",\"105\",\"George Wang\",\"34\",\"Male\",\"57000\",\"2016-03-15\"],\n",
    "    [\"018\",\"104\",\"Nancy Liu\",\"29\",\"\",\"50000\",\"2017-06-01\"],\n",
    "    [\"019\",\"103\",\"Steven Chen\",\"36\",\"Male\",\"62000\",\"2015-08-01\"],\n",
    "    [\"020\",\"102\",\"Grace Kim\",\"32\",\"Female\",\"53000\",\"2018-11-01\"]\n",
    "]\n",
    "\n",
    "emp_schema = \"employee_id string, department_id string, name string, age string, gender string, salary string, hire_date string\"\n",
    "\n",
    "# Create emp DataFrame\n",
    "\n",
    "emp = spark.createDataFrame(data=emp_data, schema=emp_schema)\n",
    "\n",
    "emp.show()\n",
    "\n",
    "spark"
   ]
  },
  {
   "cell_type": "code",
   "execution_count": 3,
   "id": "43296670-2a5f-4a36-a592-5df3389a2e37",
   "metadata": {},
   "outputs": [
    {
     "name": "stdout",
     "output_type": "stream",
     "text": [
      "+-----------+-------------+-------------+---+------+------+----------+\n",
      "|employee_id|department_id|         name|age|gender|salary| hire_date|\n",
      "+-----------+-------------+-------------+---+------+------+----------+\n",
      "|        001|          101|     John Doe| 30|  Male| 50000|2015-01-01|\n",
      "|        002|          101|   Jane Smith| 25|Female| 45000|2016-02-15|\n",
      "|        003|          102|    Bob Brown| 35|  Male| 55000|2014-05-01|\n",
      "|        004|          102|    Alice Lee| 28|Female| 48000|2017-09-30|\n",
      "|        005|          103|    Jack Chan| 40|  Male| 60000|2013-04-01|\n",
      "|        006|          103|    Jill Wong| 32|Female| 52000|2018-07-01|\n",
      "|        007|          101|James Johnson| 42|  Male| 70000|2012-03-15|\n",
      "|        010|          104|     Lisa Lee| 27|Female| 47000|2018-08-01|\n",
      "|        009|          103|      Tom Tan| 33|  Male| 58000|2016-06-01|\n",
      "|        008|          102|     Kate Kim| 29|Female| 51000|2019-10-01|\n",
      "|        012|          105|   Susan Chen| 31|Female| 54000|2017-02-15|\n",
      "|        011|          104|   David Park| 38|  Male| 65000|2015-11-01|\n",
      "|        014|          107|    Emily Lee| 26|Female| 46000|2019-01-01|\n",
      "|        013|          106|    Brian Kim| 45|  Male| 75000|2011-07-01|\n",
      "|        015|          106|  Michael Lee| 37|  Male| 63000|2014-09-30|\n",
      "|        016|          107|  Kelly Zhang| 30|Female| 49000|2018-04-01|\n",
      "|        019|          103|  Steven Chen| 36|  Male| 62000|2015-08-01|\n",
      "|        017|          105|  George Wang| 34|  Male| 57000|2016-03-15|\n",
      "|        018|          104|    Nancy Liu| 29|      | 50000|2017-06-01|\n",
      "|        020|          102|    Grace Kim| 32|Female| 53000|2018-11-01|\n",
      "+-----------+-------------+-------------+---+------+------+----------+\n",
      "\n"
     ]
    }
   ],
   "source": [
    "# Get unique data\n",
    "# select distinct emp.* from emp\n",
    "\n",
    "emp_distinct = emp.distinct()\n",
    "emp_distinct.show()"
   ]
  },
  {
   "cell_type": "code",
   "execution_count": 4,
   "id": "2619f4cb-0620-43bf-a309-82ee3d2f6b4d",
   "metadata": {},
   "outputs": [
    {
     "name": "stdout",
     "output_type": "stream",
     "text": [
      "+-------------+\n",
      "|department_id|\n",
      "+-------------+\n",
      "|          101|\n",
      "|          102|\n",
      "|          103|\n",
      "|          104|\n",
      "|          105|\n",
      "|          107|\n",
      "|          106|\n",
      "+-------------+\n",
      "\n"
     ]
    }
   ],
   "source": [
    "# Unique of department_ids\n",
    "# select distinct department_id from emp\n",
    "emp_distinct = emp.select(\"department_id\").distinct()\n",
    "emp_distinct.show()"
   ]
  },
  {
   "cell_type": "code",
   "execution_count": 5,
   "id": "77dbc334-53ee-4d20-a0e1-61f6ee3052eb",
   "metadata": {},
   "outputs": [
    {
     "name": "stdout",
     "output_type": "stream",
     "text": [
      "+-----------+-------------+-------------+---+------+------+----------+----------+\n",
      "|employee_id|department_id|         name|age|gender|salary| hire_date|Max_salary|\n",
      "+-----------+-------------+-------------+---+------+------+----------+----------+\n",
      "|        007|          101|James Johnson| 42|  Male| 70000|2012-03-15|     70000|\n",
      "|        001|          101|     John Doe| 30|  Male| 50000|2015-01-01|     70000|\n",
      "|        002|          101|   Jane Smith| 25|Female| 45000|2016-02-15|     70000|\n",
      "|        003|          102|    Bob Brown| 35|  Male| 55000|2014-05-01|     55000|\n",
      "|        020|          102|    Grace Kim| 32|Female| 53000|2018-11-01|     55000|\n",
      "|        008|          102|     Kate Kim| 29|Female| 51000|2019-10-01|     55000|\n",
      "|        004|          102|    Alice Lee| 28|Female| 48000|2017-09-30|     55000|\n",
      "|        019|          103|  Steven Chen| 36|  Male| 62000|2015-08-01|     62000|\n",
      "|        005|          103|    Jack Chan| 40|  Male| 60000|2013-04-01|     62000|\n",
      "|        009|          103|      Tom Tan| 33|  Male| 58000|2016-06-01|     62000|\n",
      "|        006|          103|    Jill Wong| 32|Female| 52000|2018-07-01|     62000|\n",
      "|        011|          104|   David Park| 38|  Male| 65000|2015-11-01|     65000|\n",
      "|        018|          104|    Nancy Liu| 29|      | 50000|2017-06-01|     65000|\n",
      "|        010|          104|     Lisa Lee| 27|Female| 47000|2018-08-01|     65000|\n",
      "|        017|          105|  George Wang| 34|  Male| 57000|2016-03-15|     57000|\n",
      "|        012|          105|   Susan Chen| 31|Female| 54000|2017-02-15|     57000|\n",
      "|        013|          106|    Brian Kim| 45|  Male| 75000|2011-07-01|     75000|\n",
      "|        015|          106|  Michael Lee| 37|  Male| 63000|2014-09-30|     75000|\n",
      "|        016|          107|  Kelly Zhang| 30|Female| 49000|2018-04-01|     49000|\n",
      "|        014|          107|    Emily Lee| 26|Female| 46000|2019-01-01|     49000|\n",
      "+-----------+-------------+-------------+---+------+------+----------+----------+\n",
      "\n"
     ]
    }
   ],
   "source": [
    "# Window Functions\n",
    "# select *, max(salary) over(partition by department_id order by salary desc) as max_salary from emp_unique\n",
    "from pyspark.sql.window import Window\n",
    "from pyspark.sql.functions import max, col, desc\n",
    "window_spec = Window.partitionBy(col(\"department_id\")).orderBy(col(\"salary\").desc())\n",
    "max_func = max(col(\"salary\")).over(window_spec)\n",
    "\n",
    "emp_1 = emp.withColumn(\"Max_salary\", max_func)\n",
    "emp_1.show()"
   ]
  },
  {
   "cell_type": "code",
   "execution_count": 6,
   "id": "e3a492b6-df20-455a-8eec-0591004a9ad5",
   "metadata": {},
   "outputs": [
    {
     "name": "stdout",
     "output_type": "stream",
     "text": [
      "+-----------+-------------+-----------+---+------+------+----------+---+\n",
      "|employee_id|department_id|       name|age|gender|salary| hire_date| rn|\n",
      "+-----------+-------------+-----------+---+------+------+----------+---+\n",
      "|        001|          101|   John Doe| 30|  Male| 50000|2015-01-01|  2|\n",
      "|        020|          102|  Grace Kim| 32|Female| 53000|2018-11-01|  2|\n",
      "|        005|          103|  Jack Chan| 40|  Male| 60000|2013-04-01|  2|\n",
      "|        018|          104|  Nancy Liu| 29|      | 50000|2017-06-01|  2|\n",
      "|        012|          105| Susan Chen| 31|Female| 54000|2017-02-15|  2|\n",
      "|        015|          106|Michael Lee| 37|  Male| 63000|2014-09-30|  2|\n",
      "|        014|          107|  Emily Lee| 26|Female| 46000|2019-01-01|  2|\n",
      "+-----------+-------------+-----------+---+------+------+----------+---+\n",
      "\n"
     ]
    }
   ],
   "source": [
    "# Window Functions - 2nd highest salary of each department\n",
    "# select *, row_number() over(partition by department_id order by salary desc) as rn from emp_unique where rn = 2\n",
    "from pyspark.sql.window import Window\n",
    "from pyspark.sql.functions import max, col, desc, row_number\n",
    "window_spec = Window.partitionBy(col(\"department_id\")).orderBy(col(\"salary\").desc())\n",
    "row_func = row_number().over(window_spec)\n",
    "\n",
    "emp_2 = emp.withColumn(\"rn\", row_func).where(\"rn = 2\")\n",
    "emp_2.show()"
   ]
  },
  {
   "cell_type": "code",
   "execution_count": 7,
   "id": "60ab5559-838a-47f2-bd38-ba9c7b1982eb",
   "metadata": {},
   "outputs": [
    {
     "name": "stdout",
     "output_type": "stream",
     "text": [
      "+-----------+-------------+-----------+---+------+------+----------+---+\n",
      "|employee_id|department_id|       name|age|gender|salary| hire_date| rn|\n",
      "+-----------+-------------+-----------+---+------+------+----------+---+\n",
      "|        001|          101|   John Doe| 30|  Male| 50000|2015-01-01|  2|\n",
      "|        020|          102|  Grace Kim| 32|Female| 53000|2018-11-01|  2|\n",
      "|        005|          103|  Jack Chan| 40|  Male| 60000|2013-04-01|  2|\n",
      "|        018|          104|  Nancy Liu| 29|      | 50000|2017-06-01|  2|\n",
      "|        012|          105| Susan Chen| 31|Female| 54000|2017-02-15|  2|\n",
      "|        015|          106|Michael Lee| 37|  Male| 63000|2014-09-30|  2|\n",
      "|        014|          107|  Emily Lee| 26|Female| 46000|2019-01-01|  2|\n",
      "+-----------+-------------+-----------+---+------+------+----------+---+\n",
      "\n"
     ]
    }
   ],
   "source": [
    "# Window function using expr\n",
    "# select *, row_number() over(partition by department_id order by salary desc) as rn from emp_unique where rn = 2\n",
    "from pyspark.sql.window import Window\n",
    "from pyspark.sql.functions import max, col, desc, row_number, expr\n",
    "\n",
    "emp_3 = emp.withColumn(\"rn\", expr(\"row_number() over(partition by department_id order by salary desc)\")).where(\"rn = 2\")\n",
    "emp_3.show()"
   ]
  },
  {
   "cell_type": "code",
   "execution_count": 8,
   "id": "fa2f216a-fd5c-45e4-93ff-9a3746340f3d",
   "metadata": {},
   "outputs": [],
   "source": [
    "spark.stop()"
   ]
  }
 ],
 "metadata": {
  "kernelspec": {
   "display_name": "Python 3 (ipykernel)",
   "language": "python",
   "name": "python3"
  },
  "language_info": {
   "codemirror_mode": {
    "name": "ipython",
    "version": 3
   },
   "file_extension": ".py",
   "mimetype": "text/x-python",
   "name": "python",
   "nbconvert_exporter": "python",
   "pygments_lexer": "ipython3",
   "version": "3.12.7"
  }
 },
 "nbformat": 4,
 "nbformat_minor": 5
}
