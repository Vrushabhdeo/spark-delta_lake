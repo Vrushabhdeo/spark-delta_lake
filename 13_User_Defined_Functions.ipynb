{
 "cells": [
  {
   "cell_type": "code",
   "execution_count": 34,
   "id": "5462b5b1-81d1-4313-93a5-3c7e86a633e9",
   "metadata": {},
   "outputs": [
    {
     "name": "stderr",
     "output_type": "stream",
     "text": [
      "25/01/12 13:05:58 WARN Utils: Service 'SparkUI' could not bind on port 4040. Attempting port 4041.\n"
     ]
    },
    {
     "data": {
      "text/html": [
       "\n",
       "            <div>\n",
       "                <p><b>SparkSession - in-memory</b></p>\n",
       "                \n",
       "        <div>\n",
       "            <p><b>SparkContext</b></p>\n",
       "\n",
       "            <p><a href=\"http://192.168.1.36:4041\">Spark UI</a></p>\n",
       "\n",
       "            <dl>\n",
       "              <dt>Version</dt>\n",
       "                <dd><code>v3.5.3</code></dd>\n",
       "              <dt>Master</dt>\n",
       "                <dd><code>local[*]</code></dd>\n",
       "              <dt>AppName</dt>\n",
       "                <dd><code>UDF</code></dd>\n",
       "            </dl>\n",
       "        </div>\n",
       "        \n",
       "            </div>\n",
       "        "
      ],
      "text/plain": [
       "<pyspark.sql.session.SparkSession at 0x179a6d520>"
      ]
     },
     "execution_count": 34,
     "metadata": {},
     "output_type": "execute_result"
    }
   ],
   "source": [
    "# Spark Session\n",
    "from pyspark.sql import SparkSession\n",
    "\n",
    "spark = (\n",
    "    SparkSession\n",
    "    .builder\n",
    "    .appName(\"UDF\")\n",
    "    .master(\"local[*]\")\n",
    "    .config(\"spark.executor.cores\", 2)\n",
    "    .config(\"spark.cores.max\", 6)\n",
    "    .config(\"spark.executor.memory\", \"512M\")\n",
    "    .getOrCreate()\n",
    ")\n",
    "\n",
    "spark"
   ]
  },
  {
   "cell_type": "code",
   "execution_count": 45,
   "id": "ff03c7df-65f9-451f-ba50-12aaad0f6498",
   "metadata": {},
   "outputs": [
    {
     "name": "stderr",
     "output_type": "stream",
     "text": [
      "                                                                                \r"
     ]
    },
    {
     "data": {
      "text/plain": [
       "7"
      ]
     },
     "execution_count": 45,
     "metadata": {},
     "output_type": "execute_result"
    }
   ],
   "source": [
    "# Read employee data\n",
    "\n",
    "# emp_schema = \"employee_id string, department_id string, name string, age string, gender string, salary string, hire_date string\"\n",
    "\n",
    "emp = spark.read.format(\"parquet\").load(\"data/output/11/3/emp.parquet\")\n",
    "\n",
    "emp.rdd.getNumPartitions()"
   ]
  },
  {
   "cell_type": "code",
   "execution_count": 46,
   "id": "82260fbc-4ce5-422b-9d4f-cd34c24107ef",
   "metadata": {},
   "outputs": [
    {
     "name": "stdout",
     "output_type": "stream",
     "text": [
      "+-----------+-------------+---+------+------+----------+-------------+\n",
      "|employee_id|         name|age|gender|salary| hire_date|department_id|\n",
      "+-----------+-------------+---+------+------+----------+-------------+\n",
      "|        003|    Bob Brown| 35|  Male| 55000|2014-05-01|          102|\n",
      "|        004|    Alice Lee| 28|Female| 48000|2017-09-30|          102|\n",
      "|        008|     Kate Kim| 29|Female| 51000|2019-10-01|          102|\n",
      "|        020|    Grace Kim| 32|Female| 53000|2018-11-01|          102|\n",
      "|        005|    Jack Chan| 40|  Male| 60000|2013-04-01|          103|\n",
      "|        006|    Jill Wong| 32|Female| 52000|2018-07-01|          103|\n",
      "|        009|      Tom Tan| 33|  Male| 58000|2016-06-01|          103|\n",
      "|        019|  Steven Chen| 36|  Male| 62000|2015-08-01|          103|\n",
      "|        001|     John Doe| 30|  Male| 50000|2015-01-01|          101|\n",
      "|        002|   Jane Smith| 25|Female| 45000|2016-02-15|          101|\n",
      "|        007|James Johnson| 42|  Male| 70000|2012-03-15|          101|\n",
      "|        010|     Lisa Lee| 27|Female| 47000|2018-08-01|          104|\n",
      "|        011|   David Park| 38|  Male| 65000|2015-11-01|          104|\n",
      "|        018|    Nancy Liu| 29|Female| 50000|2017-06-01|          104|\n",
      "|        014|    Emily Lee| 26|Female| 46000|2019-01-01|          107|\n",
      "|        016|  Kelly Zhang| 30|Female| 49000|2018-04-01|          107|\n",
      "|        013|    Brian Kim| 45|  Male| 75000|2011-07-01|          106|\n",
      "|        015|  Michael Lee| 37|  Male| 63000|2014-09-30|          106|\n",
      "|        012|   Susan Chen| 31|Female| 54000|2017-02-15|          105|\n",
      "|        017|  George Wang| 34|  Male| 57000|2016-03-15|          105|\n",
      "+-----------+-------------+---+------+------+----------+-------------+\n",
      "\n"
     ]
    }
   ],
   "source": [
    "emp.show()"
   ]
  },
  {
   "cell_type": "code",
   "execution_count": 47,
   "id": "a80ac95f-ead8-4c0a-8e9c-d0946d4d8ffe",
   "metadata": {},
   "outputs": [],
   "source": [
    "# Create a function to generate 10% of Salary as Bonus\n",
    "import time\n",
    "def bonus(salary):\n",
    "    return int(salary) * 0.1"
   ]
  },
  {
   "cell_type": "code",
   "execution_count": 48,
   "id": "d4752e99-4227-4ddd-9a1e-c4fd4c0dd5c9",
   "metadata": {},
   "outputs": [],
   "source": [
    "from pyspark.sql.functions import udf\n",
    "\n",
    "bonus_udf = udf(bonus)"
   ]
  },
  {
   "cell_type": "code",
   "execution_count": 49,
   "id": "eb274869-0a5b-4a18-a013-7521a64e28e1",
   "metadata": {},
   "outputs": [
    {
     "name": "stdout",
     "output_type": "stream",
     "text": [
      "+-----------+-------------+---+------+------+----------+-------------+------+\n",
      "|employee_id|         name|age|gender|salary| hire_date|department_id| bonus|\n",
      "+-----------+-------------+---+------+------+----------+-------------+------+\n",
      "|        003|    Bob Brown| 35|  Male| 55000|2014-05-01|          102|5500.0|\n",
      "|        004|    Alice Lee| 28|Female| 48000|2017-09-30|          102|4800.0|\n",
      "|        008|     Kate Kim| 29|Female| 51000|2019-10-01|          102|5100.0|\n",
      "|        020|    Grace Kim| 32|Female| 53000|2018-11-01|          102|5300.0|\n",
      "|        005|    Jack Chan| 40|  Male| 60000|2013-04-01|          103|6000.0|\n",
      "|        006|    Jill Wong| 32|Female| 52000|2018-07-01|          103|5200.0|\n",
      "|        009|      Tom Tan| 33|  Male| 58000|2016-06-01|          103|5800.0|\n",
      "|        019|  Steven Chen| 36|  Male| 62000|2015-08-01|          103|6200.0|\n",
      "|        001|     John Doe| 30|  Male| 50000|2015-01-01|          101|5000.0|\n",
      "|        002|   Jane Smith| 25|Female| 45000|2016-02-15|          101|4500.0|\n",
      "|        007|James Johnson| 42|  Male| 70000|2012-03-15|          101|7000.0|\n",
      "|        010|     Lisa Lee| 27|Female| 47000|2018-08-01|          104|4700.0|\n",
      "|        011|   David Park| 38|  Male| 65000|2015-11-01|          104|6500.0|\n",
      "|        018|    Nancy Liu| 29|Female| 50000|2017-06-01|          104|5000.0|\n",
      "|        014|    Emily Lee| 26|Female| 46000|2019-01-01|          107|4600.0|\n",
      "|        016|  Kelly Zhang| 30|Female| 49000|2018-04-01|          107|4900.0|\n",
      "|        013|    Brian Kim| 45|  Male| 75000|2011-07-01|          106|7500.0|\n",
      "|        015|  Michael Lee| 37|  Male| 63000|2014-09-30|          106|6300.0|\n",
      "|        012|   Susan Chen| 31|Female| 54000|2017-02-15|          105|5400.0|\n",
      "|        017|  George Wang| 34|  Male| 57000|2016-03-15|          105|5700.0|\n",
      "+-----------+-------------+---+------+------+----------+-------------+------+\n",
      "\n"
     ]
    }
   ],
   "source": [
    "emp.withColumn(\"bonus\", bonus_udf(\"salary\")).show()"
   ]
  },
  {
   "cell_type": "code",
   "execution_count": 50,
   "id": "3634587c-5306-43ba-83bf-3eaafaaf8f13",
   "metadata": {},
   "outputs": [
    {
     "name": "stderr",
     "output_type": "stream",
     "text": [
      "25/01/12 13:18:44 WARN SimpleFunctionRegistry: The function bonus_sql_udf replaced a previously registered function.\n"
     ]
    },
    {
     "name": "stdout",
     "output_type": "stream",
     "text": [
      "+-----------+-------------+---+------+------+----------+-------------+------+\n",
      "|employee_id|         name|age|gender|salary| hire_date|department_id| bonus|\n",
      "+-----------+-------------+---+------+------+----------+-------------+------+\n",
      "|        003|    Bob Brown| 35|  Male| 55000|2014-05-01|          102|5500.0|\n",
      "|        004|    Alice Lee| 28|Female| 48000|2017-09-30|          102|4800.0|\n",
      "|        008|     Kate Kim| 29|Female| 51000|2019-10-01|          102|5100.0|\n",
      "|        020|    Grace Kim| 32|Female| 53000|2018-11-01|          102|5300.0|\n",
      "|        005|    Jack Chan| 40|  Male| 60000|2013-04-01|          103|6000.0|\n",
      "|        006|    Jill Wong| 32|Female| 52000|2018-07-01|          103|5200.0|\n",
      "|        009|      Tom Tan| 33|  Male| 58000|2016-06-01|          103|5800.0|\n",
      "|        019|  Steven Chen| 36|  Male| 62000|2015-08-01|          103|6200.0|\n",
      "|        001|     John Doe| 30|  Male| 50000|2015-01-01|          101|5000.0|\n",
      "|        002|   Jane Smith| 25|Female| 45000|2016-02-15|          101|4500.0|\n",
      "|        007|James Johnson| 42|  Male| 70000|2012-03-15|          101|7000.0|\n",
      "|        010|     Lisa Lee| 27|Female| 47000|2018-08-01|          104|4700.0|\n",
      "|        011|   David Park| 38|  Male| 65000|2015-11-01|          104|6500.0|\n",
      "|        018|    Nancy Liu| 29|Female| 50000|2017-06-01|          104|5000.0|\n",
      "|        014|    Emily Lee| 26|Female| 46000|2019-01-01|          107|4600.0|\n",
      "|        016|  Kelly Zhang| 30|Female| 49000|2018-04-01|          107|4900.0|\n",
      "|        013|    Brian Kim| 45|  Male| 75000|2011-07-01|          106|7500.0|\n",
      "|        015|  Michael Lee| 37|  Male| 63000|2014-09-30|          106|6300.0|\n",
      "|        012|   Susan Chen| 31|Female| 54000|2017-02-15|          105|5400.0|\n",
      "|        017|  George Wang| 34|  Male| 57000|2016-03-15|          105|5700.0|\n",
      "+-----------+-------------+---+------+------+----------+-------------+------+\n",
      "\n"
     ]
    }
   ],
   "source": [
    "# Python UDF with spark sql\n",
    "\n",
    "spark.udf.register(\"bonus_sql_udf\", bonus, \"double\")\n",
    "\n",
    "from pyspark.sql.functions import expr\n",
    "emp.withColumn(\"bonus\", expr(\"bonus_sql_udf(salary)\")).show()\n"
   ]
  },
  {
   "cell_type": "code",
   "execution_count": 52,
   "id": "2ed579e6-7561-4bb2-8694-844b7ae378e6",
   "metadata": {},
   "outputs": [],
   "source": [
    "# Info: UDF is very expensive operation as it involves serialization/de-serialization \n",
    "# involved in the process. and must avoid in production use cases \n",
    "# In case of neccessity, define the udf with scala, \n",
    "# register it in spark.sql and use it for downstream operations"
   ]
  },
  {
   "cell_type": "code",
   "execution_count": 53,
   "id": "a1ac1e00-2af1-40b5-9467-3c5fa29b54f9",
   "metadata": {},
   "outputs": [],
   "source": [
    "spark.stop()"
   ]
  },
  {
   "cell_type": "code",
   "execution_count": null,
   "id": "bf3c347b-3318-41c9-851d-3e8f20873cdf",
   "metadata": {},
   "outputs": [],
   "source": []
  }
 ],
 "metadata": {
  "kernelspec": {
   "display_name": "Python 3 (ipykernel)",
   "language": "python",
   "name": "python3"
  },
  "language_info": {
   "codemirror_mode": {
    "name": "ipython",
    "version": 3
   },
   "file_extension": ".py",
   "mimetype": "text/x-python",
   "name": "python",
   "nbconvert_exporter": "python",
   "pygments_lexer": "ipython3",
   "version": "3.12.7"
  }
 },
 "nbformat": 4,
 "nbformat_minor": 5
}
