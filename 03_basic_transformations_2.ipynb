{
 "cells": [
  {
   "cell_type": "code",
   "execution_count": 1,
   "id": "5584c50e-471c-433c-8ad0-14f0ba0180b9",
   "metadata": {},
   "outputs": [
    {
     "name": "stderr",
     "output_type": "stream",
     "text": [
      "Setting default log level to \"WARN\".\n",
      "To adjust logging level use sc.setLogLevel(newLevel). For SparkR, use setLogLevel(newLevel).\n",
      "25/01/06 08:50:04 WARN NativeCodeLoader: Unable to load native-hadoop library for your platform... using builtin-java classes where applicable\n",
      "25/01/06 08:50:04 WARN Utils: Service 'SparkUI' could not bind on port 4040. Attempting port 4041.\n"
     ]
    },
    {
     "data": {
      "text/plain": [
       "StructType([StructField('employee_id', StringType(), True), StructField('department_id', StringType(), True), StructField('name', StringType(), True), StructField('age', StringType(), True), StructField('gender', StringType(), True), StructField('salary', StringType(), True), StructField('hire_date', StringType(), True)])"
      ]
     },
     "execution_count": 1,
     "metadata": {},
     "output_type": "execute_result"
    }
   ],
   "source": [
    "from pyspark.sql import SparkSession \n",
    "\n",
    "spark = (\n",
    "    SparkSession\n",
    "    .builder\n",
    "    .appName(\"Spark Basic Transformation\")\n",
    "    .master(\"local[*]\")\n",
    "    .getOrCreate()\n",
    "    \n",
    ")\n",
    "\n",
    "spark\n",
    "\n",
    "emp_data = [\n",
    "    [\"001\",\"101\",\"John Doe\",\"30\",\"Male\",\"50000\",\"2015-01-01\"],\n",
    "    [\"002\",\"101\",\"Jane Smith\",\"25\",\"Female\",\"45000\",\"2016-02-15\"],\n",
    "    [\"003\",\"102\",\"Bob Brown\",\"35\",\"Male\",\"55000\",\"2014-05-01\"],\n",
    "    [\"004\",\"102\",\"Alice Lee\",\"28\",\"Female\",\"48000\",\"2017-09-30\"],\n",
    "    [\"005\",\"103\",\"Jack Chan\",\"40\",\"Male\",\"60000\",\"2013-04-01\"],\n",
    "    [\"006\",\"103\",\"Jill Wong\",\"32\",\"Female\",\"52000\",\"2018-07-01\"],\n",
    "    [\"007\",\"101\",\"James Johnson\",\"42\",\"Male\",\"70000\",\"2012-03-15\"],\n",
    "    [\"008\",\"102\",\"Kate Kim\",\"29\",\"Female\",\"51000\",\"2019-10-01\"],\n",
    "    [\"009\",\"103\",\"Tom Tan\",\"33\",\"Male\",\"58000\",\"2016-06-01\"],\n",
    "    [\"010\",\"104\",\"Lisa Lee\",\"27\",\"Female\",\"47000\",\"2018-08-01\"],\n",
    "    [\"011\",\"104\",\"David Park\",\"38\",\"Male\",\"65000\",\"2015-11-01\"],\n",
    "    [\"012\",\"105\",\"Susan Chen\",\"31\",\"Female\",\"54000\",\"2017-02-15\"],\n",
    "    [\"013\",\"106\",\"Brian Kim\",\"45\",\"Male\",\"75000\",\"2011-07-01\"],\n",
    "    [\"014\",\"107\",\"Emily Lee\",\"26\",\"Female\",\"46000\",\"2019-01-01\"],\n",
    "    [\"015\",\"106\",\"Michael Lee\",\"37\",\"Male\",\"63000\",\"2014-09-30\"],\n",
    "    [\"016\",\"107\",\"Kelly Zhang\",\"30\",\"Female\",\"49000\",\"2018-04-01\"],\n",
    "    [\"017\",\"105\",\"George Wang\",\"34\",\"Male\",\"57000\",\"2016-03-15\"],\n",
    "    [\"018\",\"104\",\"Nancy Liu\",\"29\",\"Female\",\"50000\",\"2017-06-01\"],\n",
    "    [\"019\",\"103\",\"Steven Chen\",\"36\",\"Male\",\"62000\",\"2015-08-01\"],\n",
    "    [\"020\",\"102\",\"Grace Kim\",\"32\",\"Female\",\"53000\",\"2018-11-01\"]\n",
    "]\n",
    "\n",
    "emp_schema = \"employee_id string, department_id string, name string, age string, gender string, salary string, hire_date string\"\n",
    "\n",
    "# Create emp DataFrame\n",
    "\n",
    "emp = spark.createDataFrame(data=emp_data, schema=emp_schema)\n",
    "\n",
    "# Show data (ACTION)\n",
    "# emp.printSchema()\n",
    "emp.schema"
   ]
  },
  {
   "cell_type": "code",
   "execution_count": 11,
   "id": "2c83e595-5ffb-4b18-a854-54cd311ccafa",
   "metadata": {},
   "outputs": [
    {
     "name": "stderr",
     "output_type": "stream",
     "text": [
      "                                                                                \r"
     ]
    },
    {
     "name": "stdout",
     "output_type": "stream",
     "text": [
      "+-----------+-------------+---+-------+\n",
      "|employee_id|         name|age| salary|\n",
      "+-----------+-------------+---+-------+\n",
      "|        001|     John Doe| 30|50000.0|\n",
      "|        002|   Jane Smith| 25|45000.0|\n",
      "|        003|    Bob Brown| 35|55000.0|\n",
      "|        004|    Alice Lee| 28|48000.0|\n",
      "|        005|    Jack Chan| 40|60000.0|\n",
      "|        006|    Jill Wong| 32|52000.0|\n",
      "|        007|James Johnson| 42|70000.0|\n",
      "|        008|     Kate Kim| 29|51000.0|\n",
      "|        009|      Tom Tan| 33|58000.0|\n",
      "|        010|     Lisa Lee| 27|47000.0|\n",
      "|        011|   David Park| 38|65000.0|\n",
      "|        012|   Susan Chen| 31|54000.0|\n",
      "|        013|    Brian Kim| 45|75000.0|\n",
      "|        014|    Emily Lee| 26|46000.0|\n",
      "|        015|  Michael Lee| 37|63000.0|\n",
      "|        016|  Kelly Zhang| 30|49000.0|\n",
      "|        017|  George Wang| 34|57000.0|\n",
      "|        018|    Nancy Liu| 29|50000.0|\n",
      "|        019|  Steven Chen| 36|62000.0|\n",
      "|        020|    Grace Kim| 32|53000.0|\n",
      "+-----------+-------------+---+-------+\n",
      "\n"
     ]
    }
   ],
   "source": [
    "# Casting Column\n",
    "# select employee_id, name, age, cast(salary as double) as salary from emp\n",
    "\n",
    "from pyspark.sql.functions import col, cast\n",
    "emp_casted = emp.select(\"employee_id\", \"name\", \"age\", col(\"salary\").cast(\"double\"))\n",
    "emp_casted.show()\n"
   ]
  },
  {
   "cell_type": "code",
   "execution_count": 16,
   "id": "5ccfa2f2-8335-42d0-a939-87308f6eae9f",
   "metadata": {},
   "outputs": [
    {
     "name": "stdout",
     "output_type": "stream",
     "text": [
      "+-----------+-------------+---+-------+-------+\n",
      "|employee_id|         name|age| salary|    tax|\n",
      "+-----------+-------------+---+-------+-------+\n",
      "|        001|     John Doe| 30|50000.0|10000.0|\n",
      "|        002|   Jane Smith| 25|45000.0| 9000.0|\n",
      "|        003|    Bob Brown| 35|55000.0|11000.0|\n",
      "|        004|    Alice Lee| 28|48000.0| 9600.0|\n",
      "|        005|    Jack Chan| 40|60000.0|12000.0|\n",
      "|        006|    Jill Wong| 32|52000.0|10400.0|\n",
      "|        007|James Johnson| 42|70000.0|14000.0|\n",
      "|        008|     Kate Kim| 29|51000.0|10200.0|\n",
      "|        009|      Tom Tan| 33|58000.0|11600.0|\n",
      "|        010|     Lisa Lee| 27|47000.0| 9400.0|\n",
      "|        011|   David Park| 38|65000.0|13000.0|\n",
      "|        012|   Susan Chen| 31|54000.0|10800.0|\n",
      "|        013|    Brian Kim| 45|75000.0|15000.0|\n",
      "|        014|    Emily Lee| 26|46000.0| 9200.0|\n",
      "|        015|  Michael Lee| 37|63000.0|12600.0|\n",
      "|        016|  Kelly Zhang| 30|49000.0| 9800.0|\n",
      "|        017|  George Wang| 34|57000.0|11400.0|\n",
      "|        018|    Nancy Liu| 29|50000.0|10000.0|\n",
      "|        019|  Steven Chen| 36|62000.0|12400.0|\n",
      "|        020|    Grace Kim| 32|53000.0|10600.0|\n",
      "+-----------+-------------+---+-------+-------+\n",
      "\n"
     ]
    }
   ],
   "source": [
    "# Adding Columns\n",
    "# select employee_id, name, age, salary, (salary * 0.2) as tax from emp_casted\n",
    "\n",
    "emp_new_cols = emp_casted.withColumn(\"tax\", col(\"salary\")*0.2)\n",
    "emp_new_cols.show()\n"
   ]
  },
  {
   "cell_type": "code",
   "execution_count": 20,
   "id": "dd332b71-b5ff-4cce-af4a-00eb82d1869d",
   "metadata": {},
   "outputs": [
    {
     "name": "stdout",
     "output_type": "stream",
     "text": [
      "+-----------+-------------+---+-------+-------+---------+---------+\n",
      "|employee_id|         name|age| salary|    tax|columnOne|columnTwo|\n",
      "+-----------+-------------+---+-------+-------+---------+---------+\n",
      "|        001|     John Doe| 30|50000.0|10000.0|        1|      Two|\n",
      "|        002|   Jane Smith| 25|45000.0| 9000.0|        1|      Two|\n",
      "|        003|    Bob Brown| 35|55000.0|11000.0|        1|      Two|\n",
      "|        004|    Alice Lee| 28|48000.0| 9600.0|        1|      Two|\n",
      "|        005|    Jack Chan| 40|60000.0|12000.0|        1|      Two|\n",
      "|        006|    Jill Wong| 32|52000.0|10400.0|        1|      Two|\n",
      "|        007|James Johnson| 42|70000.0|14000.0|        1|      Two|\n",
      "|        008|     Kate Kim| 29|51000.0|10200.0|        1|      Two|\n",
      "|        009|      Tom Tan| 33|58000.0|11600.0|        1|      Two|\n",
      "|        010|     Lisa Lee| 27|47000.0| 9400.0|        1|      Two|\n",
      "|        011|   David Park| 38|65000.0|13000.0|        1|      Two|\n",
      "|        012|   Susan Chen| 31|54000.0|10800.0|        1|      Two|\n",
      "|        013|    Brian Kim| 45|75000.0|15000.0|        1|      Two|\n",
      "|        014|    Emily Lee| 26|46000.0| 9200.0|        1|      Two|\n",
      "|        015|  Michael Lee| 37|63000.0|12600.0|        1|      Two|\n",
      "|        016|  Kelly Zhang| 30|49000.0| 9800.0|        1|      Two|\n",
      "|        017|  George Wang| 34|57000.0|11400.0|        1|      Two|\n",
      "|        018|    Nancy Liu| 29|50000.0|10000.0|        1|      Two|\n",
      "|        019|  Steven Chen| 36|62000.0|12400.0|        1|      Two|\n",
      "|        020|    Grace Kim| 32|53000.0|10600.0|        1|      Two|\n",
      "+-----------+-------------+---+-------+-------+---------+---------+\n",
      "\n"
     ]
    }
   ],
   "source": [
    "# Literals\n",
    "# select employee_id, name, age, salary, tax, 1 as columnOne, 'two' as columnTwo from emp_taxed\n",
    "\n",
    "from pyspark.sql.functions import lit\n",
    "\n",
    "emp_new_lit = emp_new_cols.withColumn(\"columnOne\", lit(1)).withColumn(\"columnTwo\", lit(\"Two\"))\n",
    "emp_new_lit.show()\n"
   ]
  },
  {
   "cell_type": "code",
   "execution_count": 24,
   "id": "47ea29f9-13f4-40b5-b338-848fc9dc3777",
   "metadata": {},
   "outputs": [
    {
     "name": "stdout",
     "output_type": "stream",
     "text": [
      "+-----------+-------------+---+-------+-------+---------+----------+\n",
      "|employee_id|         name|age| salary|    tax|columnOne|Column Two|\n",
      "+-----------+-------------+---+-------+-------+---------+----------+\n",
      "|        001|     John Doe| 30|50000.0|10000.0|        1|       Two|\n",
      "|        002|   Jane Smith| 25|45000.0| 9000.0|        1|       Two|\n",
      "|        003|    Bob Brown| 35|55000.0|11000.0|        1|       Two|\n",
      "|        004|    Alice Lee| 28|48000.0| 9600.0|        1|       Two|\n",
      "|        005|    Jack Chan| 40|60000.0|12000.0|        1|       Two|\n",
      "|        006|    Jill Wong| 32|52000.0|10400.0|        1|       Two|\n",
      "|        007|James Johnson| 42|70000.0|14000.0|        1|       Two|\n",
      "|        008|     Kate Kim| 29|51000.0|10200.0|        1|       Two|\n",
      "|        009|      Tom Tan| 33|58000.0|11600.0|        1|       Two|\n",
      "|        010|     Lisa Lee| 27|47000.0| 9400.0|        1|       Two|\n",
      "|        011|   David Park| 38|65000.0|13000.0|        1|       Two|\n",
      "|        012|   Susan Chen| 31|54000.0|10800.0|        1|       Two|\n",
      "|        013|    Brian Kim| 45|75000.0|15000.0|        1|       Two|\n",
      "|        014|    Emily Lee| 26|46000.0| 9200.0|        1|       Two|\n",
      "|        015|  Michael Lee| 37|63000.0|12600.0|        1|       Two|\n",
      "|        016|  Kelly Zhang| 30|49000.0| 9800.0|        1|       Two|\n",
      "|        017|  George Wang| 34|57000.0|11400.0|        1|       Two|\n",
      "|        018|    Nancy Liu| 29|50000.0|10000.0|        1|       Two|\n",
      "|        019|  Steven Chen| 36|62000.0|12400.0|        1|       Two|\n",
      "|        020|    Grace Kim| 32|53000.0|10600.0|        1|       Two|\n",
      "+-----------+-------------+---+-------+-------+---------+----------+\n",
      "\n"
     ]
    }
   ],
   "source": [
    "# Renaming Columns and Column names with Spaces\n",
    "# select employee_id as emp_id, name, age, salary, tax, columnOne, columnTwo from emp_new_cols\n",
    "\n",
    "emp_renamed_new_lit = emp_new_lit.withColumnRenamed(\"columnTwo\", \"Column Two\")\n",
    "emp_renamed_new_lit.show()\n"
   ]
  },
  {
   "cell_type": "code",
   "execution_count": 26,
   "id": "10caf7b6-f225-4cb2-a5df-e974cce2157e",
   "metadata": {},
   "outputs": [
    {
     "name": "stdout",
     "output_type": "stream",
     "text": [
      "+-----------+-------------+---+-------+-------+\n",
      "|employee_id|         name|age| salary|    tax|\n",
      "+-----------+-------------+---+-------+-------+\n",
      "|        001|     John Doe| 30|50000.0|10000.0|\n",
      "|        002|   Jane Smith| 25|45000.0| 9000.0|\n",
      "|        003|    Bob Brown| 35|55000.0|11000.0|\n",
      "|        004|    Alice Lee| 28|48000.0| 9600.0|\n",
      "|        005|    Jack Chan| 40|60000.0|12000.0|\n",
      "|        006|    Jill Wong| 32|52000.0|10400.0|\n",
      "|        007|James Johnson| 42|70000.0|14000.0|\n",
      "|        008|     Kate Kim| 29|51000.0|10200.0|\n",
      "|        009|      Tom Tan| 33|58000.0|11600.0|\n",
      "|        010|     Lisa Lee| 27|47000.0| 9400.0|\n",
      "|        011|   David Park| 38|65000.0|13000.0|\n",
      "|        012|   Susan Chen| 31|54000.0|10800.0|\n",
      "|        013|    Brian Kim| 45|75000.0|15000.0|\n",
      "|        014|    Emily Lee| 26|46000.0| 9200.0|\n",
      "|        015|  Michael Lee| 37|63000.0|12600.0|\n",
      "|        016|  Kelly Zhang| 30|49000.0| 9800.0|\n",
      "|        017|  George Wang| 34|57000.0|11400.0|\n",
      "|        018|    Nancy Liu| 29|50000.0|10000.0|\n",
      "|        019|  Steven Chen| 36|62000.0|12400.0|\n",
      "|        020|    Grace Kim| 32|53000.0|10600.0|\n",
      "+-----------+-------------+---+-------+-------+\n",
      "\n"
     ]
    }
   ],
   "source": [
    "# Remove Column\n",
    "emp_droped_new_lit = emp_renamed_new_lit.drop(\"columnOne\", \"Column Two\")\n",
    "emp_droped_new_lit.show()"
   ]
  },
  {
   "cell_type": "code",
   "execution_count": 31,
   "id": "49f53f8c-a0be-4db4-a910-6b31fa16d565",
   "metadata": {},
   "outputs": [
    {
     "name": "stdout",
     "output_type": "stream",
     "text": [
      "+-----------+-------------+---+-------+-------+\n",
      "|employee_id|         name|age| salary|    tax|\n",
      "+-----------+-------------+---+-------+-------+\n",
      "|        003|    Bob Brown| 35|55000.0|11000.0|\n",
      "|        005|    Jack Chan| 40|60000.0|12000.0|\n",
      "|        006|    Jill Wong| 32|52000.0|10400.0|\n",
      "|        007|James Johnson| 42|70000.0|14000.0|\n",
      "|        008|     Kate Kim| 29|51000.0|10200.0|\n",
      "|        009|      Tom Tan| 33|58000.0|11600.0|\n",
      "|        011|   David Park| 38|65000.0|13000.0|\n",
      "|        012|   Susan Chen| 31|54000.0|10800.0|\n",
      "|        013|    Brian Kim| 45|75000.0|15000.0|\n",
      "|        015|  Michael Lee| 37|63000.0|12600.0|\n",
      "|        017|  George Wang| 34|57000.0|11400.0|\n",
      "|        019|  Steven Chen| 36|62000.0|12400.0|\n",
      "|        020|    Grace Kim| 32|53000.0|10600.0|\n",
      "+-----------+-------------+---+-------+-------+\n",
      "\n"
     ]
    }
   ],
   "source": [
    "# Filter data \n",
    "# select employee_id as emp_id, name, age, salary, tax, columnOne from emp_col_dropped where tax > 1000\n",
    "\n",
    "emp_filtered_new_lit = emp_droped_new_lit.where(\"tax > 10000\")\n",
    "emp_filtered_new_lit.show()"
   ]
  },
  {
   "cell_type": "code",
   "execution_count": 32,
   "id": "d1fbaf9a-dc3c-49b9-8487-417d772bc2af",
   "metadata": {},
   "outputs": [
    {
     "name": "stdout",
     "output_type": "stream",
     "text": [
      "+-----------+---------+---+-------+-------+\n",
      "|employee_id|     name|age| salary|    tax|\n",
      "+-----------+---------+---+-------+-------+\n",
      "|        003|Bob Brown| 35|55000.0|11000.0|\n",
      "|        005|Jack Chan| 40|60000.0|12000.0|\n",
      "|        006|Jill Wong| 32|52000.0|10400.0|\n",
      "+-----------+---------+---+-------+-------+\n",
      "\n"
     ]
    }
   ],
   "source": [
    "# LIMIT data\n",
    "# select employee_id as emp_id, name, age, salary, tax, columnOne from emp_filtered limit 5\n",
    "\n",
    "emp_limited_new = emp_filtered_new_lit.limit(3)\n",
    "emp_limited_new.show()\n"
   ]
  },
  {
   "cell_type": "code",
   "execution_count": 34,
   "id": "5f3a1d16-296a-4949-a422-3c098547fa3c",
   "metadata": {},
   "outputs": [
    {
     "name": "stdout",
     "output_type": "stream",
     "text": [
      "+-----------+-------------+-------------+---+------+------+----------+-------+---------+---------+\n",
      "|employee_id|department_id|         name|age|gender|salary| hire_date|    tax|columnOne|columnTwo|\n",
      "+-----------+-------------+-------------+---+------+------+----------+-------+---------+---------+\n",
      "|        001|          101|     John Doe| 30|  Male| 50000|2015-01-01|10000.0|        1|      Two|\n",
      "|        002|          101|   Jane Smith| 25|Female| 45000|2016-02-15| 9000.0|        1|      Two|\n",
      "|        003|          102|    Bob Brown| 35|  Male| 55000|2014-05-01|11000.0|        1|      Two|\n",
      "|        004|          102|    Alice Lee| 28|Female| 48000|2017-09-30| 9600.0|        1|      Two|\n",
      "|        005|          103|    Jack Chan| 40|  Male| 60000|2013-04-01|12000.0|        1|      Two|\n",
      "|        006|          103|    Jill Wong| 32|Female| 52000|2018-07-01|10400.0|        1|      Two|\n",
      "|        007|          101|James Johnson| 42|  Male| 70000|2012-03-15|14000.0|        1|      Two|\n",
      "|        008|          102|     Kate Kim| 29|Female| 51000|2019-10-01|10200.0|        1|      Two|\n",
      "|        009|          103|      Tom Tan| 33|  Male| 58000|2016-06-01|11600.0|        1|      Two|\n",
      "|        010|          104|     Lisa Lee| 27|Female| 47000|2018-08-01| 9400.0|        1|      Two|\n",
      "|        011|          104|   David Park| 38|  Male| 65000|2015-11-01|13000.0|        1|      Two|\n",
      "|        012|          105|   Susan Chen| 31|Female| 54000|2017-02-15|10800.0|        1|      Two|\n",
      "|        013|          106|    Brian Kim| 45|  Male| 75000|2011-07-01|15000.0|        1|      Two|\n",
      "|        014|          107|    Emily Lee| 26|Female| 46000|2019-01-01| 9200.0|        1|      Two|\n",
      "|        015|          106|  Michael Lee| 37|  Male| 63000|2014-09-30|12600.0|        1|      Two|\n",
      "|        016|          107|  Kelly Zhang| 30|Female| 49000|2018-04-01| 9800.0|        1|      Two|\n",
      "|        017|          105|  George Wang| 34|  Male| 57000|2016-03-15|11400.0|        1|      Two|\n",
      "|        018|          104|    Nancy Liu| 29|Female| 50000|2017-06-01|10000.0|        1|      Two|\n",
      "|        019|          103|  Steven Chen| 36|  Male| 62000|2015-08-01|12400.0|        1|      Two|\n",
      "|        020|          102|    Grace Kim| 32|Female| 53000|2018-11-01|10600.0|        1|      Two|\n",
      "+-----------+-------------+-------------+---+------+------+----------+-------+---------+---------+\n",
      "\n"
     ]
    }
   ],
   "source": [
    "# Add multiple columns\n",
    "columns = {\n",
    "    \"tax\": col(\"salary\") * 0.2,\n",
    "    \"columnOne\": lit(1),\n",
    "    \"columnTwo\": lit(\"Two\")\n",
    "}\n",
    "\n",
    "emp_multiple_column = emp.withColumns(columns)\n",
    "emp_multiple_column.show()"
   ]
  }
 ],
 "metadata": {
  "kernelspec": {
   "display_name": "Python 3 (ipykernel)",
   "language": "python",
   "name": "python3"
  },
  "language_info": {
   "codemirror_mode": {
    "name": "ipython",
    "version": 3
   },
   "file_extension": ".py",
   "mimetype": "text/x-python",
   "name": "python",
   "nbconvert_exporter": "python",
   "pygments_lexer": "ipython3",
   "version": "3.12.7"
  }
 },
 "nbformat": 4,
 "nbformat_minor": 5
}
