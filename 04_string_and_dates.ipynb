{
 "cells": [
  {
   "cell_type": "code",
   "execution_count": 3,
   "id": "754fdb6e-acfc-401e-8c0f-8313806c9853",
   "metadata": {},
   "outputs": [
    {
     "name": "stdout",
     "output_type": "stream",
     "text": [
      "+-----------+-------------+-------------+---+------+------+----------+\n",
      "|employee_id|department_id|         name|age|gender|salary| hire_date|\n",
      "+-----------+-------------+-------------+---+------+------+----------+\n",
      "|        001|          101|     John Doe| 30|  Male| 50000|2015-01-01|\n",
      "|        002|          101|   Jane Smith| 25|Female| 45000|2016-02-15|\n",
      "|        003|          102|    Bob Brown| 35|  Male| 55000|2014-05-01|\n",
      "|        004|          102|    Alice Lee| 28|Female| 48000|2017-09-30|\n",
      "|        005|          103|    Jack Chan| 40|  Male| 60000|2013-04-01|\n",
      "|        006|          103|    Jill Wong| 32|Female| 52000|2018-07-01|\n",
      "|        007|          101|James Johnson| 42|  Male| 70000|2012-03-15|\n",
      "|        008|          102|     Kate Kim| 29|Female| 51000|2019-10-01|\n",
      "|        009|          103|      Tom Tan| 33|  Male| 58000|2016-06-01|\n",
      "|        010|          104|     Lisa Lee| 27|Female| 47000|2018-08-01|\n",
      "|        011|          104|   David Park| 38|  Male| 65000|2015-11-01|\n",
      "|        012|          105|   Susan Chen| 31|Female| 54000|2017-02-15|\n",
      "|        013|          106|    Brian Kim| 45|  Male| 75000|2011-07-01|\n",
      "|        014|          107|    Emily Lee| 26|Female| 46000|2019-01-01|\n",
      "|        015|          106|  Michael Lee| 37|  Male| 63000|2014-09-30|\n",
      "|        016|          107|  Kelly Zhang| 30|Female| 49000|2018-04-01|\n",
      "|        017|          105|  George Wang| 34|  Male| 57000|2016-03-15|\n",
      "|        018|          104|    Nancy Liu| 29|      | 50000|2017-06-01|\n",
      "|        019|          103|  Steven Chen| 36|  Male| 62000|2015-08-01|\n",
      "|        020|          102|    Grace Kim| 32|Female| 53000|2018-11-01|\n",
      "+-----------+-------------+-------------+---+------+------+----------+\n",
      "\n",
      "root\n",
      " |-- employee_id: string (nullable = true)\n",
      " |-- department_id: string (nullable = true)\n",
      " |-- name: string (nullable = true)\n",
      " |-- age: string (nullable = true)\n",
      " |-- gender: string (nullable = true)\n",
      " |-- salary: string (nullable = true)\n",
      " |-- hire_date: string (nullable = true)\n",
      "\n"
     ]
    }
   ],
   "source": [
    "# Spark Session\n",
    "from pyspark.sql import SparkSession\n",
    "\n",
    "spark = (\n",
    "    SparkSession\n",
    "    .builder\n",
    "    .appName(\"Working with Strings & Dates\")\n",
    "    .master(\"local[*]\")\n",
    "    .getOrCreate()\n",
    ")\n",
    "\n",
    "spark\n",
    "\n",
    "# Emp Data & Schema\n",
    "\n",
    "emp_data = [\n",
    "    [\"001\",\"101\",\"John Doe\",\"30\",\"Male\",\"50000\",\"2015-01-01\"],\n",
    "    [\"002\",\"101\",\"Jane Smith\",\"25\",\"Female\",\"45000\",\"2016-02-15\"],\n",
    "    [\"003\",\"102\",\"Bob Brown\",\"35\",\"Male\",\"55000\",\"2014-05-01\"],\n",
    "    [\"004\",\"102\",\"Alice Lee\",\"28\",\"Female\",\"48000\",\"2017-09-30\"],\n",
    "    [\"005\",\"103\",\"Jack Chan\",\"40\",\"Male\",\"60000\",\"2013-04-01\"],\n",
    "    [\"006\",\"103\",\"Jill Wong\",\"32\",\"Female\",\"52000\",\"2018-07-01\"],\n",
    "    [\"007\",\"101\",\"James Johnson\",\"42\",\"Male\",\"70000\",\"2012-03-15\"],\n",
    "    [\"008\",\"102\",\"Kate Kim\",\"29\",\"Female\",\"51000\",\"2019-10-01\"],\n",
    "    [\"009\",\"103\",\"Tom Tan\",\"33\",\"Male\",\"58000\",\"2016-06-01\"],\n",
    "    [\"010\",\"104\",\"Lisa Lee\",\"27\",\"Female\",\"47000\",\"2018-08-01\"],\n",
    "    [\"011\",\"104\",\"David Park\",\"38\",\"Male\",\"65000\",\"2015-11-01\"],\n",
    "    [\"012\",\"105\",\"Susan Chen\",\"31\",\"Female\",\"54000\",\"2017-02-15\"],\n",
    "    [\"013\",\"106\",\"Brian Kim\",\"45\",\"Male\",\"75000\",\"2011-07-01\"],\n",
    "    [\"014\",\"107\",\"Emily Lee\",\"26\",\"Female\",\"46000\",\"2019-01-01\"],\n",
    "    [\"015\",\"106\",\"Michael Lee\",\"37\",\"Male\",\"63000\",\"2014-09-30\"],\n",
    "    [\"016\",\"107\",\"Kelly Zhang\",\"30\",\"Female\",\"49000\",\"2018-04-01\"],\n",
    "    [\"017\",\"105\",\"George Wang\",\"34\",\"Male\",\"57000\",\"2016-03-15\"],\n",
    "    [\"018\",\"104\",\"Nancy Liu\",\"29\",\"\",\"50000\",\"2017-06-01\"],\n",
    "    [\"019\",\"103\",\"Steven Chen\",\"36\",\"Male\",\"62000\",\"2015-08-01\"],\n",
    "    [\"020\",\"102\",\"Grace Kim\",\"32\",\"Female\",\"53000\",\"2018-11-01\"]\n",
    "]\n",
    "\n",
    "emp_schema = \"employee_id string, department_id string, name string, age string, gender string, salary string, hire_date string\"\n",
    "\n",
    "# Create emp DataFrame\n",
    "\n",
    "emp = spark.createDataFrame(data=emp_data, schema=emp_schema)\n",
    "\n",
    "# Show emp dataframe (ACTION)\n",
    "\n",
    "emp.show()\n",
    "\n",
    "# Print Schema\n",
    "\n",
    "emp.printSchema()\n"
   ]
  },
  {
   "cell_type": "code",
   "execution_count": 12,
   "id": "2c528e40-4aac-4ff8-a075-c9d686cb1f67",
   "metadata": {},
   "outputs": [
    {
     "name": "stdout",
     "output_type": "stream",
     "text": [
      "+-----------+-------------+-------------+---+------+------+----------+----------+\n",
      "|employee_id|department_id|         name|age|gender|salary| hire_date|new_gender|\n",
      "+-----------+-------------+-------------+---+------+------+----------+----------+\n",
      "|        001|          101|     John Doe| 30|  Male| 50000|2015-01-01|         M|\n",
      "|        002|          101|   Jane Smith| 25|Female| 45000|2016-02-15|         F|\n",
      "|        003|          102|    Bob Brown| 35|  Male| 55000|2014-05-01|         M|\n",
      "|        004|          102|    Alice Lee| 28|Female| 48000|2017-09-30|         F|\n",
      "|        005|          103|    Jack Chan| 40|  Male| 60000|2013-04-01|         M|\n",
      "|        006|          103|    Jill Wong| 32|Female| 52000|2018-07-01|         F|\n",
      "|        007|          101|James Johnson| 42|  Male| 70000|2012-03-15|         M|\n",
      "|        008|          102|     Kate Kim| 29|Female| 51000|2019-10-01|         F|\n",
      "|        009|          103|      Tom Tan| 33|  Male| 58000|2016-06-01|         M|\n",
      "|        010|          104|     Lisa Lee| 27|Female| 47000|2018-08-01|         F|\n",
      "|        011|          104|   David Park| 38|  Male| 65000|2015-11-01|         M|\n",
      "|        012|          105|   Susan Chen| 31|Female| 54000|2017-02-15|         F|\n",
      "|        013|          106|    Brian Kim| 45|  Male| 75000|2011-07-01|         M|\n",
      "|        014|          107|    Emily Lee| 26|Female| 46000|2019-01-01|         F|\n",
      "|        015|          106|  Michael Lee| 37|  Male| 63000|2014-09-30|         M|\n",
      "|        016|          107|  Kelly Zhang| 30|Female| 49000|2018-04-01|         F|\n",
      "|        017|          105|  George Wang| 34|  Male| 57000|2016-03-15|         M|\n",
      "|        018|          104|    Nancy Liu| 29|      | 50000|2017-06-01|      NULL|\n",
      "|        019|          103|  Steven Chen| 36|  Male| 62000|2015-08-01|         M|\n",
      "|        020|          102|    Grace Kim| 32|Female| 53000|2018-11-01|         F|\n",
      "+-----------+-------------+-------------+---+------+------+----------+----------+\n",
      "\n"
     ]
    }
   ],
   "source": [
    "# Case When\n",
    "# select employee_id, name, age, salary, gender,\n",
    "# case when gender = 'Male' then 'M' when gender = 'Female' then 'F' else null end as new_gender, hire_date from emp\n",
    "\n",
    "from pyspark.sql.functions import col, expr, when\n",
    "\n",
    "emp_gender_fixed = emp.withColumn(\"new_gender\", when(col(\"gender\") == 'Male', 'M')\n",
    "                                      .when(col(\"gender\") == 'Female', 'F')\n",
    "                                      .otherwise(None))\n",
    "\n",
    "emp_gender_fixed_1 = emp.withColumn(\"new_gender\", expr(\"CASE when gender == 'Male' then 'M' when gender == 'Female' then 'F' else null end\"))\n",
    "\n",
    "emp_gender_fixed_1.show()"
   ]
  },
  {
   "cell_type": "code",
   "execution_count": 22,
   "id": "294b62da-3ae8-4cfd-8b20-c05f24471d9d",
   "metadata": {},
   "outputs": [
    {
     "name": "stdout",
     "output_type": "stream",
     "text": [
      "+-----------+-------------+-------------+---+------+------+----------+----------+-------------+\n",
      "|employee_id|department_id|         name|age|gender|salary| hire_date|new_gender|     new_name|\n",
      "+-----------+-------------+-------------+---+------+------+----------+----------+-------------+\n",
      "|        001|          101|     John Doe| 30|  Male| 50000|2015-01-01|         M|     Zohn Doe|\n",
      "|        002|          101|   Jane Smith| 25|Female| 45000|2016-02-15|         F|   Zane Smith|\n",
      "|        003|          102|    Bob Brown| 35|  Male| 55000|2014-05-01|         M|    Bob Brown|\n",
      "|        004|          102|    Alice Lee| 28|Female| 48000|2017-09-30|         F|    Alice Lee|\n",
      "|        005|          103|    Jack Chan| 40|  Male| 60000|2013-04-01|         M|    Zack Chan|\n",
      "|        006|          103|    Jill Wong| 32|Female| 52000|2018-07-01|         F|    Zill Wong|\n",
      "|        007|          101|James Johnson| 42|  Male| 70000|2012-03-15|         M|Zames Zohnson|\n",
      "|        008|          102|     Kate Kim| 29|Female| 51000|2019-10-01|         F|     Kate Kim|\n",
      "|        009|          103|      Tom Tan| 33|  Male| 58000|2016-06-01|         M|      Tom Tan|\n",
      "|        010|          104|     Lisa Lee| 27|Female| 47000|2018-08-01|         F|     Lisa Lee|\n",
      "|        011|          104|   David Park| 38|  Male| 65000|2015-11-01|         M|   David Park|\n",
      "|        012|          105|   Susan Chen| 31|Female| 54000|2017-02-15|         F|   Susan Chen|\n",
      "|        013|          106|    Brian Kim| 45|  Male| 75000|2011-07-01|         M|    Brian Kim|\n",
      "|        014|          107|    Emily Lee| 26|Female| 46000|2019-01-01|         F|    Emily Lee|\n",
      "|        015|          106|  Michael Lee| 37|  Male| 63000|2014-09-30|         M|  Michael Lee|\n",
      "|        016|          107|  Kelly Zhang| 30|Female| 49000|2018-04-01|         F|  Kelly Zhang|\n",
      "|        017|          105|  George Wang| 34|  Male| 57000|2016-03-15|         M|  George Wang|\n",
      "|        018|          104|    Nancy Liu| 29|      | 50000|2017-06-01|      NULL|    Nancy Liu|\n",
      "|        019|          103|  Steven Chen| 36|  Male| 62000|2015-08-01|         M|  Steven Chen|\n",
      "|        020|          102|    Grace Kim| 32|Female| 53000|2018-11-01|         F|    Grace Kim|\n",
      "+-----------+-------------+-------------+---+------+------+----------+----------+-------------+\n",
      "\n"
     ]
    }
   ],
   "source": [
    "# Replace in Strings\n",
    "# select employee_id, name, replace(name, 'J', 'Z') as new_name, age, salary, gender, new_gender, hire_date from emp_gender_fixed\n",
    "from pyspark.sql.functions import regexp_replace\n",
    "\n",
    "emp_name_fixed = emp_gender_fixed_1.withColumn(\"new_name\", regexp_replace(col(\"name\"), 'J', 'Z'))\n",
    "\n",
    "emp_name_fixed.show()"
   ]
  },
  {
   "cell_type": "code",
   "execution_count": 28,
   "id": "8bfd3138-b717-413d-8a68-0a9998e811f7",
   "metadata": {},
   "outputs": [
    {
     "name": "stdout",
     "output_type": "stream",
     "text": [
      "+-----------+-------------+-------------+---+------+------+----------+----------+-------------+\n",
      "|employee_id|department_id|         name|age|gender|salary| hire_date|new_gender|     new_name|\n",
      "+-----------+-------------+-------------+---+------+------+----------+----------+-------------+\n",
      "|        001|          101|     John Doe| 30|  Male| 50000|2015-01-01|         M|     Zohn Doe|\n",
      "|        002|          101|   Jane Smith| 25|Female| 45000|2016-01-15|         F|   Zane Smith|\n",
      "|        003|          102|    Bob Brown| 35|  Male| 55000|2014-01-01|         M|    Bob Brown|\n",
      "|        004|          102|    Alice Lee| 28|Female| 48000|2017-01-30|         F|    Alice Lee|\n",
      "|        005|          103|    Jack Chan| 40|  Male| 60000|2013-01-01|         M|    Zack Chan|\n",
      "|        006|          103|    Jill Wong| 32|Female| 52000|2018-01-01|         F|    Zill Wong|\n",
      "|        007|          101|James Johnson| 42|  Male| 70000|2012-01-15|         M|Zames Zohnson|\n",
      "|        008|          102|     Kate Kim| 29|Female| 51000|2019-01-01|         F|     Kate Kim|\n",
      "|        009|          103|      Tom Tan| 33|  Male| 58000|2016-01-01|         M|      Tom Tan|\n",
      "|        010|          104|     Lisa Lee| 27|Female| 47000|2018-01-01|         F|     Lisa Lee|\n",
      "|        011|          104|   David Park| 38|  Male| 65000|2015-01-01|         M|   David Park|\n",
      "|        012|          105|   Susan Chen| 31|Female| 54000|2017-01-15|         F|   Susan Chen|\n",
      "|        013|          106|    Brian Kim| 45|  Male| 75000|2011-01-01|         M|    Brian Kim|\n",
      "|        014|          107|    Emily Lee| 26|Female| 46000|2019-01-01|         F|    Emily Lee|\n",
      "|        015|          106|  Michael Lee| 37|  Male| 63000|2014-01-30|         M|  Michael Lee|\n",
      "|        016|          107|  Kelly Zhang| 30|Female| 49000|2018-01-01|         F|  Kelly Zhang|\n",
      "|        017|          105|  George Wang| 34|  Male| 57000|2016-01-15|         M|  George Wang|\n",
      "|        018|          104|    Nancy Liu| 29|      | 50000|2017-01-01|      NULL|    Nancy Liu|\n",
      "|        019|          103|  Steven Chen| 36|  Male| 62000|2015-01-01|         M|  Steven Chen|\n",
      "|        020|          102|    Grace Kim| 32|Female| 53000|2018-01-01|         F|    Grace Kim|\n",
      "+-----------+-------------+-------------+---+------+------+----------+----------+-------------+\n",
      "\n",
      "root\n",
      " |-- employee_id: string (nullable = true)\n",
      " |-- department_id: string (nullable = true)\n",
      " |-- name: string (nullable = true)\n",
      " |-- age: string (nullable = true)\n",
      " |-- gender: string (nullable = true)\n",
      " |-- salary: string (nullable = true)\n",
      " |-- hire_date: date (nullable = true)\n",
      " |-- new_gender: string (nullable = true)\n",
      " |-- new_name: string (nullable = true)\n",
      "\n"
     ]
    }
   ],
   "source": [
    "# Convert Date\n",
    "# select *,  to_date(hire_date, 'YYYY-MM-DD') as hire_date from emp_name_fixed\n",
    "\n",
    "from pyspark.sql.functions import to_date\n",
    "emp_hire_date_fixed = emp_name_fixed.withColumn(\"hire_date\", to_date(col(\"hire_date\"), 'yyyy-mm-dd'))\n",
    "\n",
    "emp_hire_date_fixed.show()\n",
    "emp_hire_date_fixed.printSchema()"
   ]
  },
  {
   "cell_type": "code",
   "execution_count": 31,
   "id": "246baf38-3a60-45c4-a4d5-f57810b4b4ab",
   "metadata": {},
   "outputs": [
    {
     "name": "stdout",
     "output_type": "stream",
     "text": [
      "+-----------+-------------+-------------+---+------+------+----------+----------+-------------+----------+--------------------------+\n",
      "|employee_id|department_id|name         |age|gender|salary|hire_date |new_gender|new_name     |date_now  |timestamp_now             |\n",
      "+-----------+-------------+-------------+---+------+------+----------+----------+-------------+----------+--------------------------+\n",
      "|001        |101          |John Doe     |30 |Male  |50000 |2015-01-01|M         |Zohn Doe     |2025-01-06|2025-01-06 18:34:44.417812|\n",
      "|002        |101          |Jane Smith   |25 |Female|45000 |2016-01-15|F         |Zane Smith   |2025-01-06|2025-01-06 18:34:44.417812|\n",
      "|003        |102          |Bob Brown    |35 |Male  |55000 |2014-01-01|M         |Bob Brown    |2025-01-06|2025-01-06 18:34:44.417812|\n",
      "|004        |102          |Alice Lee    |28 |Female|48000 |2017-01-30|F         |Alice Lee    |2025-01-06|2025-01-06 18:34:44.417812|\n",
      "|005        |103          |Jack Chan    |40 |Male  |60000 |2013-01-01|M         |Zack Chan    |2025-01-06|2025-01-06 18:34:44.417812|\n",
      "|006        |103          |Jill Wong    |32 |Female|52000 |2018-01-01|F         |Zill Wong    |2025-01-06|2025-01-06 18:34:44.417812|\n",
      "|007        |101          |James Johnson|42 |Male  |70000 |2012-01-15|M         |Zames Zohnson|2025-01-06|2025-01-06 18:34:44.417812|\n",
      "|008        |102          |Kate Kim     |29 |Female|51000 |2019-01-01|F         |Kate Kim     |2025-01-06|2025-01-06 18:34:44.417812|\n",
      "|009        |103          |Tom Tan      |33 |Male  |58000 |2016-01-01|M         |Tom Tan      |2025-01-06|2025-01-06 18:34:44.417812|\n",
      "|010        |104          |Lisa Lee     |27 |Female|47000 |2018-01-01|F         |Lisa Lee     |2025-01-06|2025-01-06 18:34:44.417812|\n",
      "|011        |104          |David Park   |38 |Male  |65000 |2015-01-01|M         |David Park   |2025-01-06|2025-01-06 18:34:44.417812|\n",
      "|012        |105          |Susan Chen   |31 |Female|54000 |2017-01-15|F         |Susan Chen   |2025-01-06|2025-01-06 18:34:44.417812|\n",
      "|013        |106          |Brian Kim    |45 |Male  |75000 |2011-01-01|M         |Brian Kim    |2025-01-06|2025-01-06 18:34:44.417812|\n",
      "|014        |107          |Emily Lee    |26 |Female|46000 |2019-01-01|F         |Emily Lee    |2025-01-06|2025-01-06 18:34:44.417812|\n",
      "|015        |106          |Michael Lee  |37 |Male  |63000 |2014-01-30|M         |Michael Lee  |2025-01-06|2025-01-06 18:34:44.417812|\n",
      "|016        |107          |Kelly Zhang  |30 |Female|49000 |2018-01-01|F         |Kelly Zhang  |2025-01-06|2025-01-06 18:34:44.417812|\n",
      "|017        |105          |George Wang  |34 |Male  |57000 |2016-01-15|M         |George Wang  |2025-01-06|2025-01-06 18:34:44.417812|\n",
      "|018        |104          |Nancy Liu    |29 |      |50000 |2017-01-01|NULL      |Nancy Liu    |2025-01-06|2025-01-06 18:34:44.417812|\n",
      "|019        |103          |Steven Chen  |36 |Male  |62000 |2015-01-01|M         |Steven Chen  |2025-01-06|2025-01-06 18:34:44.417812|\n",
      "|020        |102          |Grace Kim    |32 |Female|53000 |2018-01-01|F         |Grace Kim    |2025-01-06|2025-01-06 18:34:44.417812|\n",
      "+-----------+-------------+-------------+---+------+------+----------+----------+-------------+----------+--------------------------+\n",
      "\n"
     ]
    }
   ],
   "source": [
    "# Add Date Columns\n",
    "# Add current_date, current_timestamp, extract year from hire_date\n",
    "from pyspark.sql.functions import current_date, current_timestamp\n",
    "emp_dated = emp_hire_date_fixed.withColumn(\"date_now\", current_date()).withColumn(\"timestamp_now\", current_timestamp())\n",
    "emp_dated.show(truncate= False)"
   ]
  },
  {
   "cell_type": "code",
   "execution_count": 35,
   "id": "18fca1cc-ff75-4a6e-bc93-8c2f8c5de0cd",
   "metadata": {},
   "outputs": [
    {
     "name": "stdout",
     "output_type": "stream",
     "text": [
      "+-----------+-------------+-------------+---+------+------+----------+----------+-------------+----------+--------------------+\n",
      "|employee_id|department_id|         name|age|gender|salary| hire_date|new_gender|     new_name|  date_now|       timestamp_now|\n",
      "+-----------+-------------+-------------+---+------+------+----------+----------+-------------+----------+--------------------+\n",
      "|        001|          101|     John Doe| 30|  Male| 50000|2015-01-01|         M|     Zohn Doe|2025-01-06|2025-01-06 18:37:...|\n",
      "|        002|          101|   Jane Smith| 25|Female| 45000|2016-01-15|         F|   Zane Smith|2025-01-06|2025-01-06 18:37:...|\n",
      "|        003|          102|    Bob Brown| 35|  Male| 55000|2014-01-01|         M|    Bob Brown|2025-01-06|2025-01-06 18:37:...|\n",
      "|        004|          102|    Alice Lee| 28|Female| 48000|2017-01-30|         F|    Alice Lee|2025-01-06|2025-01-06 18:37:...|\n",
      "|        005|          103|    Jack Chan| 40|  Male| 60000|2013-01-01|         M|    Zack Chan|2025-01-06|2025-01-06 18:37:...|\n",
      "|        006|          103|    Jill Wong| 32|Female| 52000|2018-01-01|         F|    Zill Wong|2025-01-06|2025-01-06 18:37:...|\n",
      "|        007|          101|James Johnson| 42|  Male| 70000|2012-01-15|         M|Zames Zohnson|2025-01-06|2025-01-06 18:37:...|\n",
      "|        008|          102|     Kate Kim| 29|Female| 51000|2019-01-01|         F|     Kate Kim|2025-01-06|2025-01-06 18:37:...|\n",
      "|        009|          103|      Tom Tan| 33|  Male| 58000|2016-01-01|         M|      Tom Tan|2025-01-06|2025-01-06 18:37:...|\n",
      "|        010|          104|     Lisa Lee| 27|Female| 47000|2018-01-01|         F|     Lisa Lee|2025-01-06|2025-01-06 18:37:...|\n",
      "|        011|          104|   David Park| 38|  Male| 65000|2015-01-01|         M|   David Park|2025-01-06|2025-01-06 18:37:...|\n",
      "|        012|          105|   Susan Chen| 31|Female| 54000|2017-01-15|         F|   Susan Chen|2025-01-06|2025-01-06 18:37:...|\n",
      "|        013|          106|    Brian Kim| 45|  Male| 75000|2011-01-01|         M|    Brian Kim|2025-01-06|2025-01-06 18:37:...|\n",
      "|        014|          107|    Emily Lee| 26|Female| 46000|2019-01-01|         F|    Emily Lee|2025-01-06|2025-01-06 18:37:...|\n",
      "|        015|          106|  Michael Lee| 37|  Male| 63000|2014-01-30|         M|  Michael Lee|2025-01-06|2025-01-06 18:37:...|\n",
      "|        016|          107|  Kelly Zhang| 30|Female| 49000|2018-01-01|         F|  Kelly Zhang|2025-01-06|2025-01-06 18:37:...|\n",
      "|        017|          105|  George Wang| 34|  Male| 57000|2016-01-15|         M|  George Wang|2025-01-06|2025-01-06 18:37:...|\n",
      "|        019|          103|  Steven Chen| 36|  Male| 62000|2015-01-01|         M|  Steven Chen|2025-01-06|2025-01-06 18:37:...|\n",
      "|        020|          102|    Grace Kim| 32|Female| 53000|2018-01-01|         F|    Grace Kim|2025-01-06|2025-01-06 18:37:...|\n",
      "+-----------+-------------+-------------+---+------+------+----------+----------+-------------+----------+--------------------+\n",
      "\n"
     ]
    }
   ],
   "source": [
    "# Drop Null gender records\n",
    "\n",
    "emp_dated_1 = emp_dated.na.drop()\n",
    "emp_dated_1.show()"
   ]
  },
  {
   "cell_type": "code",
   "execution_count": 45,
   "id": "99b96a6b-20e9-40a2-a591-0cfdf3a8f9be",
   "metadata": {},
   "outputs": [
    {
     "name": "stdout",
     "output_type": "stream",
     "text": [
      "+-----------+-------------+-------------+---+------+------+----------+----------+\n",
      "|employee_id|department_id|name         |age|gender|salary|hire_date |new_gender|\n",
      "+-----------+-------------+-------------+---+------+------+----------+----------+\n",
      "|001        |101          |John Doe     |30 |Male  |50000 |2015-01-01|Male      |\n",
      "|002        |101          |Jane Smith   |25 |Female|45000 |2016-02-15|Female    |\n",
      "|003        |102          |Bob Brown    |35 |Male  |55000 |2014-05-01|Male      |\n",
      "|004        |102          |Alice Lee    |28 |Female|48000 |2017-09-30|Female    |\n",
      "|005        |103          |Jack Chan    |40 |Male  |60000 |2013-04-01|Male      |\n",
      "|006        |103          |Jill Wong    |32 |Female|52000 |2018-07-01|Female    |\n",
      "|007        |101          |James Johnson|42 |Male  |70000 |2012-03-15|Male      |\n",
      "|008        |102          |Kate Kim     |29 |Female|51000 |2019-10-01|Female    |\n",
      "|009        |103          |Tom Tan      |33 |Male  |58000 |2016-06-01|Male      |\n",
      "|010        |104          |Lisa Lee     |27 |Female|47000 |2018-08-01|Female    |\n",
      "|011        |104          |David Park   |38 |Male  |65000 |2015-11-01|Male      |\n",
      "|012        |105          |Susan Chen   |31 |Female|54000 |2017-02-15|Female    |\n",
      "|013        |106          |Brian Kim    |45 |Male  |75000 |2011-07-01|Male      |\n",
      "|014        |107          |Emily Lee    |26 |Female|46000 |2019-01-01|Female    |\n",
      "|015        |106          |Michael Lee  |37 |Male  |63000 |2014-09-30|Male      |\n",
      "|016        |107          |Kelly Zhang  |30 |Female|49000 |2018-04-01|Female    |\n",
      "|017        |105          |George Wang  |34 |Male  |57000 |2016-03-15|Male      |\n",
      "|018        |104          |Nancy Liu    |29 |      |50000 |2017-06-01|          |\n",
      "|019        |103          |Steven Chen  |36 |Male  |62000 |2015-08-01|Male      |\n",
      "|020        |102          |Grace Kim    |32 |Female|53000 |2018-11-01|Female    |\n",
      "+-----------+-------------+-------------+---+------+------+----------+----------+\n",
      "\n"
     ]
    }
   ],
   "source": [
    "# Fix Null values\n",
    "# select *, nvl('new_gender', 'O') as new_gender from emp_dated\n",
    "from pyspark.sql.functions import coalesce, lit\n",
    "emp_null_gender_df = emp.withColumn(\"new_gender\", coalesce(col(\"gender\"), lit(\"O\")))\n",
    "emp_null_gender_df.show(truncate=False)"
   ]
  },
  {
   "cell_type": "code",
   "execution_count": 48,
   "id": "18c3bd44-bf9d-48aa-8803-3cb1bedbf88c",
   "metadata": {},
   "outputs": [
    {
     "name": "stdout",
     "output_type": "stream",
     "text": [
      "+-----------+-------------+-------------+---+------+----------+------+\n",
      "|employee_id|department_id|         name|age|salary| hire_date|gender|\n",
      "+-----------+-------------+-------------+---+------+----------+------+\n",
      "|        001|          101|     John Doe| 30| 50000|2015-01-01|  Male|\n",
      "|        002|          101|   Jane Smith| 25| 45000|2016-02-15|Female|\n",
      "|        003|          102|    Bob Brown| 35| 55000|2014-05-01|  Male|\n",
      "|        004|          102|    Alice Lee| 28| 48000|2017-09-30|Female|\n",
      "|        005|          103|    Jack Chan| 40| 60000|2013-04-01|  Male|\n",
      "|        006|          103|    Jill Wong| 32| 52000|2018-07-01|Female|\n",
      "|        007|          101|James Johnson| 42| 70000|2012-03-15|  Male|\n",
      "|        008|          102|     Kate Kim| 29| 51000|2019-10-01|Female|\n",
      "|        009|          103|      Tom Tan| 33| 58000|2016-06-01|  Male|\n",
      "|        010|          104|     Lisa Lee| 27| 47000|2018-08-01|Female|\n",
      "|        011|          104|   David Park| 38| 65000|2015-11-01|  Male|\n",
      "|        012|          105|   Susan Chen| 31| 54000|2017-02-15|Female|\n",
      "|        013|          106|    Brian Kim| 45| 75000|2011-07-01|  Male|\n",
      "|        014|          107|    Emily Lee| 26| 46000|2019-01-01|Female|\n",
      "|        015|          106|  Michael Lee| 37| 63000|2014-09-30|  Male|\n",
      "|        016|          107|  Kelly Zhang| 30| 49000|2018-04-01|Female|\n",
      "|        017|          105|  George Wang| 34| 57000|2016-03-15|  Male|\n",
      "|        018|          104|    Nancy Liu| 29| 50000|2017-06-01|      |\n",
      "|        019|          103|  Steven Chen| 36| 62000|2015-08-01|  Male|\n",
      "|        020|          102|    Grace Kim| 32| 53000|2018-11-01|Female|\n",
      "+-----------+-------------+-------------+---+------+----------+------+\n",
      "\n"
     ]
    }
   ],
   "source": [
    "# Drop old columns and Fix new column names\n",
    "\n",
    "emp_drop_gender = emp_null_gender_df.drop(\"gender\")\n",
    "emp_drop_gender_1 = emp_drop_gender.withColumnRenamed(\"new_gender\", \"gender\")\n",
    "emp_drop_gender_1.show()"
   ]
  },
  {
   "cell_type": "code",
   "execution_count": 49,
   "id": "e6195604-6aad-4d0d-8a2d-5d5920ee19a9",
   "metadata": {},
   "outputs": [],
   "source": [
    "# Write data as CSV\n",
    "emp_drop_gender_1.write.mode(\"overwrite\").format(\"csv\").save(\"data/output/4/emp.csv\")"
   ]
  },
  {
   "cell_type": "code",
   "execution_count": 51,
   "id": "85a6ef66-b794-4c61-8974-4cdb5430ba96",
   "metadata": {},
   "outputs": [
    {
     "name": "stdout",
     "output_type": "stream",
     "text": [
      "+-----------+-------------+-------------+---+------+----------+------+---------+\n",
      "|employee_id|department_id|         name|age|salary| hire_date|gender|date_year|\n",
      "+-----------+-------------+-------------+---+------+----------+------+---------+\n",
      "|        001|          101|     John Doe| 30| 50000|2015-01-01|  Male|    +0530|\n",
      "|        002|          101|   Jane Smith| 25| 45000|2016-02-15|Female|    +0530|\n",
      "|        003|          102|    Bob Brown| 35| 55000|2014-05-01|  Male|    +0530|\n",
      "|        004|          102|    Alice Lee| 28| 48000|2017-09-30|Female|    +0530|\n",
      "|        005|          103|    Jack Chan| 40| 60000|2013-04-01|  Male|    +0530|\n",
      "|        006|          103|    Jill Wong| 32| 52000|2018-07-01|Female|    +0530|\n",
      "|        007|          101|James Johnson| 42| 70000|2012-03-15|  Male|    +0530|\n",
      "|        008|          102|     Kate Kim| 29| 51000|2019-10-01|Female|    +0530|\n",
      "|        009|          103|      Tom Tan| 33| 58000|2016-06-01|  Male|    +0530|\n",
      "|        010|          104|     Lisa Lee| 27| 47000|2018-08-01|Female|    +0530|\n",
      "|        011|          104|   David Park| 38| 65000|2015-11-01|  Male|    +0530|\n",
      "|        012|          105|   Susan Chen| 31| 54000|2017-02-15|Female|    +0530|\n",
      "|        013|          106|    Brian Kim| 45| 75000|2011-07-01|  Male|    +0530|\n",
      "|        014|          107|    Emily Lee| 26| 46000|2019-01-01|Female|    +0530|\n",
      "|        015|          106|  Michael Lee| 37| 63000|2014-09-30|  Male|    +0530|\n",
      "|        016|          107|  Kelly Zhang| 30| 49000|2018-04-01|Female|    +0530|\n",
      "|        017|          105|  George Wang| 34| 57000|2016-03-15|  Male|    +0530|\n",
      "|        018|          104|    Nancy Liu| 29| 50000|2017-06-01|      |    +0530|\n",
      "|        019|          103|  Steven Chen| 36| 62000|2015-08-01|  Male|    +0530|\n",
      "|        020|          102|    Grace Kim| 32| 53000|2018-11-01|Female|    +0530|\n",
      "+-----------+-------------+-------------+---+------+----------+------+---------+\n",
      "\n"
     ]
    }
   ],
   "source": [
    "# Bonus TIP\n",
    "# Convert date into String and extract date information\n",
    "\n",
    "from pyspark.sql.functions import date_format\n",
    "emp_drop_gender_2 = emp_drop_gender_1.withColumn(\"date_year\", date_format(col(\"hire_date\"), \"Z\"))\n",
    "emp_drop_gender_2.show()"
   ]
  }
 ],
 "metadata": {
  "kernelspec": {
   "display_name": "Python 3 (ipykernel)",
   "language": "python",
   "name": "python3"
  },
  "language_info": {
   "codemirror_mode": {
    "name": "ipython",
    "version": 3
   },
   "file_extension": ".py",
   "mimetype": "text/x-python",
   "name": "python",
   "nbconvert_exporter": "python",
   "pygments_lexer": "ipython3",
   "version": "3.12.7"
  }
 },
 "nbformat": 4,
 "nbformat_minor": 5
}
