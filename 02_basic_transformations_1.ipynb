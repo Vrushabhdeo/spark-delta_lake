{
 "cells": [
  {
   "cell_type": "code",
   "execution_count": 8,
   "id": "10197c7f-c9c9-47a4-844c-328472ad8e3c",
   "metadata": {
    "editable": true,
    "slideshow": {
     "slide_type": ""
    },
    "tags": []
   },
   "outputs": [
    {
     "data": {
      "text/plain": [
       "StructType([StructField('employee_id', StringType(), True), StructField('department_id', StringType(), True), StructField('name', StringType(), True), StructField('age', StringType(), True), StructField('gender', StringType(), True), StructField('salary', StringType(), True), StructField('hire_date', StringType(), True)])"
      ]
     },
     "execution_count": 8,
     "metadata": {},
     "output_type": "execute_result"
    }
   ],
   "source": [
    "from pyspark.sql import SparkSession \n",
    "\n",
    "spark = (\n",
    "    SparkSession\n",
    "    .builder\n",
    "    .appName(\"Spark Select Expr\")\n",
    "    .master(\"local[*]\")\n",
    "    .getOrCreate()\n",
    "    \n",
    ")\n",
    "\n",
    "spark\n",
    "\n",
    "emp_data = [\n",
    "    [\"001\",\"101\",\"John Doe\",\"30\",\"Male\",\"50000\",\"2015-01-01\"],\n",
    "    [\"002\",\"101\",\"Jane Smith\",\"25\",\"Female\",\"45000\",\"2016-02-15\"],\n",
    "    [\"003\",\"102\",\"Bob Brown\",\"35\",\"Male\",\"55000\",\"2014-05-01\"],\n",
    "    [\"004\",\"102\",\"Alice Lee\",\"28\",\"Female\",\"48000\",\"2017-09-30\"],\n",
    "    [\"005\",\"103\",\"Jack Chan\",\"40\",\"Male\",\"60000\",\"2013-04-01\"],\n",
    "    [\"006\",\"103\",\"Jill Wong\",\"32\",\"Female\",\"52000\",\"2018-07-01\"],\n",
    "    [\"007\",\"101\",\"James Johnson\",\"42\",\"Male\",\"70000\",\"2012-03-15\"],\n",
    "    [\"008\",\"102\",\"Kate Kim\",\"29\",\"Female\",\"51000\",\"2019-10-01\"],\n",
    "    [\"009\",\"103\",\"Tom Tan\",\"33\",\"Male\",\"58000\",\"2016-06-01\"],\n",
    "    [\"010\",\"104\",\"Lisa Lee\",\"27\",\"Female\",\"47000\",\"2018-08-01\"],\n",
    "    [\"011\",\"104\",\"David Park\",\"38\",\"Male\",\"65000\",\"2015-11-01\"],\n",
    "    [\"012\",\"105\",\"Susan Chen\",\"31\",\"Female\",\"54000\",\"2017-02-15\"],\n",
    "    [\"013\",\"106\",\"Brian Kim\",\"45\",\"Male\",\"75000\",\"2011-07-01\"],\n",
    "    [\"014\",\"107\",\"Emily Lee\",\"26\",\"Female\",\"46000\",\"2019-01-01\"],\n",
    "    [\"015\",\"106\",\"Michael Lee\",\"37\",\"Male\",\"63000\",\"2014-09-30\"],\n",
    "    [\"016\",\"107\",\"Kelly Zhang\",\"30\",\"Female\",\"49000\",\"2018-04-01\"],\n",
    "    [\"017\",\"105\",\"George Wang\",\"34\",\"Male\",\"57000\",\"2016-03-15\"],\n",
    "    [\"018\",\"104\",\"Nancy Liu\",\"29\",\"Female\",\"50000\",\"2017-06-01\"],\n",
    "    [\"019\",\"103\",\"Steven Chen\",\"36\",\"Male\",\"62000\",\"2015-08-01\"],\n",
    "    [\"020\",\"102\",\"Grace Kim\",\"32\",\"Female\",\"53000\",\"2018-11-01\"]\n",
    "]\n",
    "\n",
    "emp_schema = \"employee_id string, department_id string, name string, age string, gender string, salary string, hire_date string\"\n",
    "\n",
    "# Create emp DataFrame\n",
    "\n",
    "emp = spark.createDataFrame(data=emp_data, schema=emp_schema)\n",
    "\n",
    "# Show data (ACTION)\n",
    "# emp.printSchema()\n",
    "emp.schema"
   ]
  },
  {
   "cell_type": "code",
   "execution_count": 9,
   "id": "b346104e-78ff-4454-bd05-7df2842ef361",
   "metadata": {
    "editable": true,
    "slideshow": {
     "slide_type": ""
    },
    "tags": []
   },
   "outputs": [],
   "source": [
    "# Spark native schema schema\n",
    "from pyspark.sql.types import StructType, StructField, StringType, IntegerType\n",
    "\n",
    "schema_string = \"name string, age int\"\n",
    "\n",
    "emp_schema = StructType([\n",
    "    StructField(\"name\", StringType(), True), \n",
    "    StructField(\"age\", IntegerType(), True), \n",
    "])"
   ]
  },
  {
   "cell_type": "code",
   "execution_count": 10,
   "id": "2d59f95c-607e-419a-a71f-4be4b96761e3",
   "metadata": {},
   "outputs": [
    {
     "data": {
      "text/plain": [
       "Column<'name'>"
      ]
     },
     "execution_count": 10,
     "metadata": {},
     "output_type": "execute_result"
    }
   ],
   "source": [
    "from pyspark.sql.functions import col, expr\n",
    "\n",
    "# emp[\"name\"]\n",
    "emp.name"
   ]
  },
  {
   "cell_type": "code",
   "execution_count": 11,
   "id": "0e1a639a-ba32-47bf-ae86-171c0c458eb3",
   "metadata": {},
   "outputs": [
    {
     "name": "stdout",
     "output_type": "stream",
     "text": [
      "+-----------+-------------+---+------+\n",
      "|employee_id|         name|age|gender|\n",
      "+-----------+-------------+---+------+\n",
      "|        001|     John Doe| 30|  Male|\n",
      "|        002|   Jane Smith| 25|Female|\n",
      "|        003|    Bob Brown| 35|  Male|\n",
      "|        004|    Alice Lee| 28|Female|\n",
      "|        005|    Jack Chan| 40|  Male|\n",
      "|        006|    Jill Wong| 32|Female|\n",
      "|        007|James Johnson| 42|  Male|\n",
      "|        008|     Kate Kim| 29|Female|\n",
      "|        009|      Tom Tan| 33|  Male|\n",
      "|        010|     Lisa Lee| 27|Female|\n",
      "|        011|   David Park| 38|  Male|\n",
      "|        012|   Susan Chen| 31|Female|\n",
      "|        013|    Brian Kim| 45|  Male|\n",
      "|        014|    Emily Lee| 26|Female|\n",
      "|        015|  Michael Lee| 37|  Male|\n",
      "|        016|  Kelly Zhang| 30|Female|\n",
      "|        017|  George Wang| 34|  Male|\n",
      "|        018|    Nancy Liu| 29|Female|\n",
      "|        019|  Steven Chen| 36|  Male|\n",
      "|        020|    Grace Kim| 32|Female|\n",
      "+-----------+-------------+---+------+\n",
      "\n"
     ]
    }
   ],
   "source": [
    "# SELECT columns\n",
    "# select employee_id, name, age, salary from emp\n",
    "\n",
    "emp_filtered = emp.select(col(\"employee_id\"), expr(\"name\"), emp.age, emp.gender)\n",
    "\n",
    "# SHOW Dataframe (ACTION)\n",
    "emp_filtered.show()"
   ]
  },
  {
   "cell_type": "code",
   "execution_count": 12,
   "id": "91ef5e46-c397-4d90-92d9-7dfadfb64c7e",
   "metadata": {},
   "outputs": [
    {
     "name": "stdout",
     "output_type": "stream",
     "text": [
      "+---+-------------+---+------+\n",
      "| id|         name|age|salary|\n",
      "+---+-------------+---+------+\n",
      "|001|     John Doe| 30| 50000|\n",
      "|002|   Jane Smith| 25| 45000|\n",
      "|003|    Bob Brown| 35| 55000|\n",
      "|004|    Alice Lee| 28| 48000|\n",
      "|005|    Jack Chan| 40| 60000|\n",
      "|006|    Jill Wong| 32| 52000|\n",
      "|007|James Johnson| 42| 70000|\n",
      "|008|     Kate Kim| 29| 51000|\n",
      "|009|      Tom Tan| 33| 58000|\n",
      "|010|     Lisa Lee| 27| 47000|\n",
      "|011|   David Park| 38| 65000|\n",
      "|012|   Susan Chen| 31| 54000|\n",
      "|013|    Brian Kim| 45| 75000|\n",
      "|014|    Emily Lee| 26| 46000|\n",
      "|015|  Michael Lee| 37| 63000|\n",
      "|016|  Kelly Zhang| 30| 49000|\n",
      "|017|  George Wang| 34| 57000|\n",
      "|018|    Nancy Liu| 29| 50000|\n",
      "|019|  Steven Chen| 36| 62000|\n",
      "|020|    Grace Kim| 32| 53000|\n",
      "+---+-------------+---+------+\n",
      "\n"
     ]
    }
   ],
   "source": [
    "# select employee_id as emp_id, name, cast(age as int) as age, salary from emp_filtered\n",
    "\n",
    "emp_casted = emp.select(expr(\"employee_id as id\"), col(\"name\"), expr(\"cast(age as int)\"), emp.salary)\n",
    "\n",
    "# SHOW Dataframe (ACTION)\n",
    "\n",
    "emp_casted.show()\n"
   ]
  },
  {
   "cell_type": "code",
   "execution_count": 21,
   "id": "3906e0db-e3fd-4e35-828e-9f4bc652ac3d",
   "metadata": {},
   "outputs": [
    {
     "data": {
      "text/plain": [
       "StructType([StructField('id', StringType(), True), StructField('name', StringType(), True), StructField('age', IntegerType(), True), StructField('salary', StringType(), True)])"
      ]
     },
     "execution_count": 21,
     "metadata": {},
     "output_type": "execute_result"
    }
   ],
   "source": [
    "# Use of selectExpr \n",
    "\n",
    "emp_casted_1 = emp_casted.selectExpr(\"id\", \"name\", \"cast(age as int) as age\", \"salary\")\n",
    "\n",
    "# emp_casted_1.printSchema()\n",
    "emp_casted_1.schema"
   ]
  },
  {
   "cell_type": "code",
   "execution_count": 25,
   "id": "de7b602f-7d0f-4183-adb4-ce91b55ea105",
   "metadata": {},
   "outputs": [
    {
     "name": "stdout",
     "output_type": "stream",
     "text": [
      "+---+-------------+---+------+\n",
      "| id|         name|age|salary|\n",
      "+---+-------------+---+------+\n",
      "|003|    Bob Brown| 35| 55000|\n",
      "|005|    Jack Chan| 40| 60000|\n",
      "|006|    Jill Wong| 32| 52000|\n",
      "|007|James Johnson| 42| 70000|\n",
      "|009|      Tom Tan| 33| 58000|\n",
      "|011|   David Park| 38| 65000|\n",
      "|012|   Susan Chen| 31| 54000|\n",
      "|013|    Brian Kim| 45| 75000|\n",
      "|015|  Michael Lee| 37| 63000|\n",
      "|017|  George Wang| 34| 57000|\n",
      "|019|  Steven Chen| 36| 62000|\n",
      "|020|    Grace Kim| 32| 53000|\n",
      "+---+-------------+---+------+\n",
      "\n"
     ]
    }
   ],
   "source": [
    "# Filter emp based on Age > 30\n",
    "emp_filtered = emp_casted.selectExpr(\"id\", \"name\", \"cast(age as int) as age\", \"salary\").where(\"age>30\")\n",
    "emp_filtered.show()"
   ]
  },
  {
   "cell_type": "code",
   "execution_count": 31,
   "id": "c8715be4-a406-4217-b6a3-42ee4e803c6b",
   "metadata": {},
   "outputs": [],
   "source": [
    "# Overwrite the filtered csv\n",
    "emp_filtered.write.mode(\"overwrite\").format(\"csv\").save(\"data/output/2/emp.csv\")"
   ]
  },
  {
   "cell_type": "code",
   "execution_count": 34,
   "id": "b9337f5b-2cbd-463a-9d5e-a7ed0f52d8cc",
   "metadata": {},
   "outputs": [
    {
     "data": {
      "text/plain": [
       "StructType([StructField('name', StringType(), True), StructField('age', IntegerType(), True)])"
      ]
     },
     "execution_count": 34,
     "metadata": {},
     "output_type": "execute_result"
    }
   ],
   "source": [
    "# Schema Parse\n",
    "\n",
    "schema_string = \"name string, age int\"\n",
    "\n",
    "from pyspark.sql.types import _parse_datatype_string\n",
    "\n",
    "spark_schema = _parse_datatype_string(schema_string)\n",
    "\n",
    "spark_schema"
   ]
  }
 ],
 "metadata": {
  "kernelspec": {
   "display_name": "Python 3 (ipykernel)",
   "language": "python",
   "name": "python3"
  },
  "language_info": {
   "codemirror_mode": {
    "name": "ipython",
    "version": 3
   },
   "file_extension": ".py",
   "mimetype": "text/x-python",
   "name": "python",
   "nbconvert_exporter": "python",
   "pygments_lexer": "ipython3",
   "version": "3.12.7"
  }
 },
 "nbformat": 4,
 "nbformat_minor": 5
}
